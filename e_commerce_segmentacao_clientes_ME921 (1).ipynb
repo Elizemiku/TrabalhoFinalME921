{
  "nbformat": 4,
  "nbformat_minor": 0,
  "metadata": {
    "colab": {
      "name": "e-commerce-segmentacao-clientes-ME921.ipynb",
      "provenance": [],
      "collapsed_sections": []
    },
    "kernelspec": {
      "display_name": "Python 3",
      "language": "python",
      "name": "python3"
    },
    "language_info": {
      "codemirror_mode": {
        "name": "ipython",
        "version": 3
      },
      "file_extension": ".py",
      "mimetype": "text/x-python",
      "name": "python",
      "nbconvert_exporter": "python",
      "pygments_lexer": "ipython3",
      "version": "3.7.9"
    }
  },
  "cells": [
    {
      "cell_type": "markdown",
      "metadata": {
        "id": "yL3Xo-aLX7HZ"
      },
      "source": [
        "Utilizando o conjunto de dados de E-commerce do Brasil que contém contém 100 mil pedidos de 2016 a 2018. Um pedido pode ter vários itens e cada item pode ser atendido por um vendedor distinto. \n",
        "\n",
        "Contém 9 datasets mas so vamos utilizar 5.\n",
        "<table>\n",
        "  <tr>\n",
        "    <th style=\"text-align: left;\">File Name</th>\n",
        "    <th style=\"text-align: left;\">Description</th>\n",
        "    <th style=\"text-align: left;\">Number of Columns</th>\n",
        "  </tr>\n",
        "  <tr>\n",
        "    <td style=\"text-align: left;\">olist_customers_dataset.csv</td>\n",
        "    <td style=\"text-align: left;\">Contains information about a customer and its location    </td>\n",
        "    <td style=\"text-align: left;\">5 columns</td>\n",
        "  </tr>\n",
        "  <tr>\n",
        "    <td style=\"text-align: left;\">olist_geolocation_dataset.csv</td>\n",
        "    <td style=\"text-align: left;\">Contains Brazilian zip codes (sellers and customers) and its lat/lang coordinates</td>\n",
        "    <td style=\"text-align: left;\">5 columns</td>\n",
        "  </tr>\n",
        "  <tr>\n",
        "    <td style=\"text-align: left;\">olist_order_items_dataset.csv</td>\n",
        "    <td style=\"text-align: left;\">Contains information about the items purchased within each order  </td>\n",
        "    <td style=\"text-align: left;\">7 columns</td>\n",
        "  </tr>\n",
        "  <tr>\n",
        "    <td style=\"text-align: left;\">olist_order_payments_dataset.csv</td>\n",
        "    <td style=\"text-align: left;\">Contains information about the orders payment options</td>\n",
        "    <td style=\"text-align: left;\">5 columns</td>\n",
        "  </tr>\n",
        "  <tr>\n",
        "    <td style=\"text-align: left;\">olist_order_reviews_dataset.csv</td>\n",
        "    <td style=\"text-align: left;\">Contains information about the reviews made by the customers</td>\n",
        "    <td style=\"text-align: left;\">7 columns</td>\n",
        "  </tr>\n",
        "  <tr>\n",
        "    <td style=\"text-align: left;\">olist_orders_dataset.csv</td>\n",
        "    <td style=\"text-align: left;\">This is the core dataset</td>\n",
        "    <td style=\"text-align: left;\">8 columns</td>\n",
        "  </tr>\n",
        "  <tr>\n",
        "    <td style=\"text-align: left;\">olist_products_dataset.csv</td>\n",
        "    <td style=\"text-align: left ;\">Contains information about the products sold by Olist</td>\n",
        "    <td style=\"text-align: left;\">9 columns</td>\n",
        "  </tr>\n",
        "    <tr>\n",
        "    <td style=\"text-align: left;\">olist_sellers_dataset.csv</td>\n",
        "    <td style=\"text-align: left;\">Contains information about the sellers</td>\n",
        "    <td style=\"text-align: left;\">4 columns</td>\n",
        "  </tr>\n",
        "    <tr>\n",
        "    <td style=\"text-align: left;\">product_category_name_translation.csv</td>\n",
        "    <td style=\"text-align: left;\">Translates the productcategoryname to english </td>\n",
        "    <td style=\"text-align: left;\">2 columns</td>\n",
        "  </tr>\n",
        "</table>\n",
        "<br><br>\n"
      ]
    },
    {
      "cell_type": "markdown",
      "metadata": {
        "id": "r0ziiS43X7Hf"
      },
      "source": [
        "# Importando os pacotes e carregando os dados"
      ]
    },
    {
      "cell_type": "code",
      "metadata": {
        "colab": {
          "resources": {
            "http://localhost:8080/nbextensions/google.colab/files.js": {
              "data": "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",
              "headers": [
                [
                  "content-type",
                  "application/javascript"
                ]
              ],
              "ok": true,
              "status": 200,
              "status_text": ""
            }
          },
          "base_uri": "https://localhost:8080/",
          "height": 208
        },
        "id": "OubF6TeyYoa9",
        "outputId": "8e8ff338-7e4c-4d12-c46c-234d77db7f35"
      },
      "source": [
        "# carregando arquivos \n",
        "from google.colab import files\n",
        "file = files.upload()"
      ],
      "execution_count": null,
      "outputs": [
        {
          "output_type": "display_data",
          "data": {
            "text/html": [
              "\n",
              "     <input type=\"file\" id=\"files-b973b3b4-8602-43ca-b58e-4dafbcd79755\" name=\"files[]\" multiple disabled\n",
              "        style=\"border:none\" />\n",
              "     <output id=\"result-b973b3b4-8602-43ca-b58e-4dafbcd79755\">\n",
              "      Upload widget is only available when the cell has been executed in the\n",
              "      current browser session. Please rerun this cell to enable.\n",
              "      </output>\n",
              "      <script src=\"/nbextensions/google.colab/files.js\"></script> "
            ],
            "text/plain": [
              "<IPython.core.display.HTML object>"
            ]
          },
          "metadata": {
            "tags": []
          }
        },
        {
          "output_type": "stream",
          "text": [
            "Saving olist_products_dataset.csv to olist_products_dataset.csv\n",
            "Saving olist_orders_dataset.csv to olist_orders_dataset.csv\n",
            "Saving olist_order_payments_dataset.csv to olist_order_payments_dataset.csv\n",
            "Saving olist_order_items_dataset.csv to olist_order_items_dataset.csv\n",
            "Saving olist_customers_dataset.csv to olist_customers_dataset.csv\n"
          ],
          "name": "stdout"
        }
      ]
    },
    {
      "cell_type": "code",
      "metadata": {
        "id": "BsIdzgfkX7Hg"
      },
      "source": [
        "import matplotlib.pyplot as plt\n",
        "import pandas as pd\n",
        "import numpy as np\n",
        "\n",
        "customers = pd.read_csv('olist_customers_dataset.csv')\n",
        "items = pd.read_csv('olist_order_items_dataset.csv')\n",
        "payments = pd.read_csv('olist_order_payments_dataset.csv')\n",
        "orders = pd.read_csv('olist_orders_dataset.csv')\n",
        "products = pd.read_csv('olist_products_dataset.csv')"
      ],
      "execution_count": 3,
      "outputs": []
    },
    {
      "cell_type": "markdown",
      "metadata": {
        "id": "gHoZ70D-X7Hi"
      },
      "source": [
        "# Análise de dados"
      ]
    },
    {
      "cell_type": "code",
      "metadata": {
        "colab": {
          "base_uri": "https://localhost:8080/",
          "height": 205
        },
        "id": "xYeIrlcEX7Hm",
        "outputId": "d9acb310-ccf8-4a60-9b1a-893ab504cb06"
      },
      "source": [
        "items.head(5)"
      ],
      "execution_count": 4,
      "outputs": [
        {
          "output_type": "execute_result",
          "data": {
            "text/html": [
              "<div>\n",
              "<style scoped>\n",
              "    .dataframe tbody tr th:only-of-type {\n",
              "        vertical-align: middle;\n",
              "    }\n",
              "\n",
              "    .dataframe tbody tr th {\n",
              "        vertical-align: top;\n",
              "    }\n",
              "\n",
              "    .dataframe thead th {\n",
              "        text-align: right;\n",
              "    }\n",
              "</style>\n",
              "<table border=\"1\" class=\"dataframe\">\n",
              "  <thead>\n",
              "    <tr style=\"text-align: right;\">\n",
              "      <th></th>\n",
              "      <th>order_id</th>\n",
              "      <th>order_item_id</th>\n",
              "      <th>product_id</th>\n",
              "      <th>seller_id</th>\n",
              "      <th>shipping_limit_date</th>\n",
              "      <th>price</th>\n",
              "      <th>freight_value</th>\n",
              "    </tr>\n",
              "  </thead>\n",
              "  <tbody>\n",
              "    <tr>\n",
              "      <th>0</th>\n",
              "      <td>00010242fe8c5a6d1ba2dd792cb16214</td>\n",
              "      <td>1</td>\n",
              "      <td>4244733e06e7ecb4970a6e2683c13e61</td>\n",
              "      <td>48436dade18ac8b2bce089ec2a041202</td>\n",
              "      <td>2017-09-19 09:45:35</td>\n",
              "      <td>58.90</td>\n",
              "      <td>13.29</td>\n",
              "    </tr>\n",
              "    <tr>\n",
              "      <th>1</th>\n",
              "      <td>00018f77f2f0320c557190d7a144bdd3</td>\n",
              "      <td>1</td>\n",
              "      <td>e5f2d52b802189ee658865ca93d83a8f</td>\n",
              "      <td>dd7ddc04e1b6c2c614352b383efe2d36</td>\n",
              "      <td>2017-05-03 11:05:13</td>\n",
              "      <td>239.90</td>\n",
              "      <td>19.93</td>\n",
              "    </tr>\n",
              "    <tr>\n",
              "      <th>2</th>\n",
              "      <td>000229ec398224ef6ca0657da4fc703e</td>\n",
              "      <td>1</td>\n",
              "      <td>c777355d18b72b67abbeef9df44fd0fd</td>\n",
              "      <td>5b51032eddd242adc84c38acab88f23d</td>\n",
              "      <td>2018-01-18 14:48:30</td>\n",
              "      <td>199.00</td>\n",
              "      <td>17.87</td>\n",
              "    </tr>\n",
              "    <tr>\n",
              "      <th>3</th>\n",
              "      <td>00024acbcdf0a6daa1e931b038114c75</td>\n",
              "      <td>1</td>\n",
              "      <td>7634da152a4610f1595efa32f14722fc</td>\n",
              "      <td>9d7a1d34a5052409006425275ba1c2b4</td>\n",
              "      <td>2018-08-15 10:10:18</td>\n",
              "      <td>12.99</td>\n",
              "      <td>12.79</td>\n",
              "    </tr>\n",
              "    <tr>\n",
              "      <th>4</th>\n",
              "      <td>00042b26cf59d7ce69dfabb4e55b4fd9</td>\n",
              "      <td>1</td>\n",
              "      <td>ac6c3623068f30de03045865e4e10089</td>\n",
              "      <td>df560393f3a51e74553ab94004ba5c87</td>\n",
              "      <td>2017-02-13 13:57:51</td>\n",
              "      <td>199.90</td>\n",
              "      <td>18.14</td>\n",
              "    </tr>\n",
              "  </tbody>\n",
              "</table>\n",
              "</div>"
            ],
            "text/plain": [
              "                           order_id  order_item_id  ...   price freight_value\n",
              "0  00010242fe8c5a6d1ba2dd792cb16214              1  ...   58.90         13.29\n",
              "1  00018f77f2f0320c557190d7a144bdd3              1  ...  239.90         19.93\n",
              "2  000229ec398224ef6ca0657da4fc703e              1  ...  199.00         17.87\n",
              "3  00024acbcdf0a6daa1e931b038114c75              1  ...   12.99         12.79\n",
              "4  00042b26cf59d7ce69dfabb4e55b4fd9              1  ...  199.90         18.14\n",
              "\n",
              "[5 rows x 7 columns]"
            ]
          },
          "metadata": {
            "tags": []
          },
          "execution_count": 4
        }
      ]
    },
    {
      "cell_type": "code",
      "metadata": {
        "colab": {
          "base_uri": "https://localhost:8080/",
          "height": 205
        },
        "id": "kPRPVSoiX7Hi",
        "outputId": "6914931b-4f51-404f-b42d-34f75925e1df"
      },
      "source": [
        "customers.head(5)"
      ],
      "execution_count": 5,
      "outputs": [
        {
          "output_type": "execute_result",
          "data": {
            "text/html": [
              "<div>\n",
              "<style scoped>\n",
              "    .dataframe tbody tr th:only-of-type {\n",
              "        vertical-align: middle;\n",
              "    }\n",
              "\n",
              "    .dataframe tbody tr th {\n",
              "        vertical-align: top;\n",
              "    }\n",
              "\n",
              "    .dataframe thead th {\n",
              "        text-align: right;\n",
              "    }\n",
              "</style>\n",
              "<table border=\"1\" class=\"dataframe\">\n",
              "  <thead>\n",
              "    <tr style=\"text-align: right;\">\n",
              "      <th></th>\n",
              "      <th>customer_id</th>\n",
              "      <th>customer_unique_id</th>\n",
              "      <th>customer_zip_code_prefix</th>\n",
              "      <th>customer_city</th>\n",
              "      <th>customer_state</th>\n",
              "    </tr>\n",
              "  </thead>\n",
              "  <tbody>\n",
              "    <tr>\n",
              "      <th>0</th>\n",
              "      <td>06b8999e2fba1a1fbc88172c00ba8bc7</td>\n",
              "      <td>861eff4711a542e4b93843c6dd7febb0</td>\n",
              "      <td>14409</td>\n",
              "      <td>franca</td>\n",
              "      <td>SP</td>\n",
              "    </tr>\n",
              "    <tr>\n",
              "      <th>1</th>\n",
              "      <td>18955e83d337fd6b2def6b18a428ac77</td>\n",
              "      <td>290c77bc529b7ac935b93aa66c333dc3</td>\n",
              "      <td>9790</td>\n",
              "      <td>sao bernardo do campo</td>\n",
              "      <td>SP</td>\n",
              "    </tr>\n",
              "    <tr>\n",
              "      <th>2</th>\n",
              "      <td>4e7b3e00288586ebd08712fdd0374a03</td>\n",
              "      <td>060e732b5b29e8181a18229c7b0b2b5e</td>\n",
              "      <td>1151</td>\n",
              "      <td>sao paulo</td>\n",
              "      <td>SP</td>\n",
              "    </tr>\n",
              "    <tr>\n",
              "      <th>3</th>\n",
              "      <td>b2b6027bc5c5109e529d4dc6358b12c3</td>\n",
              "      <td>259dac757896d24d7702b9acbbff3f3c</td>\n",
              "      <td>8775</td>\n",
              "      <td>mogi das cruzes</td>\n",
              "      <td>SP</td>\n",
              "    </tr>\n",
              "    <tr>\n",
              "      <th>4</th>\n",
              "      <td>4f2d8ab171c80ec8364f7c12e35b23ad</td>\n",
              "      <td>345ecd01c38d18a9036ed96c73b8d066</td>\n",
              "      <td>13056</td>\n",
              "      <td>campinas</td>\n",
              "      <td>SP</td>\n",
              "    </tr>\n",
              "  </tbody>\n",
              "</table>\n",
              "</div>"
            ],
            "text/plain": [
              "                        customer_id  ... customer_state\n",
              "0  06b8999e2fba1a1fbc88172c00ba8bc7  ...             SP\n",
              "1  18955e83d337fd6b2def6b18a428ac77  ...             SP\n",
              "2  4e7b3e00288586ebd08712fdd0374a03  ...             SP\n",
              "3  b2b6027bc5c5109e529d4dc6358b12c3  ...             SP\n",
              "4  4f2d8ab171c80ec8364f7c12e35b23ad  ...             SP\n",
              "\n",
              "[5 rows x 5 columns]"
            ]
          },
          "metadata": {
            "tags": []
          },
          "execution_count": 5
        }
      ]
    },
    {
      "cell_type": "code",
      "metadata": {
        "colab": {
          "base_uri": "https://localhost:8080/",
          "height": 225
        },
        "id": "lbYXbgQHX7Ho",
        "outputId": "69b1a3bd-f574-4965-9dc4-8217aa216cd1"
      },
      "source": [
        "orders.head(5)"
      ],
      "execution_count": 6,
      "outputs": [
        {
          "output_type": "execute_result",
          "data": {
            "text/html": [
              "<div>\n",
              "<style scoped>\n",
              "    .dataframe tbody tr th:only-of-type {\n",
              "        vertical-align: middle;\n",
              "    }\n",
              "\n",
              "    .dataframe tbody tr th {\n",
              "        vertical-align: top;\n",
              "    }\n",
              "\n",
              "    .dataframe thead th {\n",
              "        text-align: right;\n",
              "    }\n",
              "</style>\n",
              "<table border=\"1\" class=\"dataframe\">\n",
              "  <thead>\n",
              "    <tr style=\"text-align: right;\">\n",
              "      <th></th>\n",
              "      <th>order_id</th>\n",
              "      <th>customer_id</th>\n",
              "      <th>order_status</th>\n",
              "      <th>order_purchase_timestamp</th>\n",
              "      <th>order_approved_at</th>\n",
              "      <th>order_delivered_carrier_date</th>\n",
              "      <th>order_delivered_customer_date</th>\n",
              "      <th>order_estimated_delivery_date</th>\n",
              "    </tr>\n",
              "  </thead>\n",
              "  <tbody>\n",
              "    <tr>\n",
              "      <th>0</th>\n",
              "      <td>e481f51cbdc54678b7cc49136f2d6af7</td>\n",
              "      <td>9ef432eb6251297304e76186b10a928d</td>\n",
              "      <td>delivered</td>\n",
              "      <td>2017-10-02 10:56:33</td>\n",
              "      <td>2017-10-02 11:07:15</td>\n",
              "      <td>2017-10-04 19:55:00</td>\n",
              "      <td>2017-10-10 21:25:13</td>\n",
              "      <td>2017-10-18 00:00:00</td>\n",
              "    </tr>\n",
              "    <tr>\n",
              "      <th>1</th>\n",
              "      <td>53cdb2fc8bc7dce0b6741e2150273451</td>\n",
              "      <td>b0830fb4747a6c6d20dea0b8c802d7ef</td>\n",
              "      <td>delivered</td>\n",
              "      <td>2018-07-24 20:41:37</td>\n",
              "      <td>2018-07-26 03:24:27</td>\n",
              "      <td>2018-07-26 14:31:00</td>\n",
              "      <td>2018-08-07 15:27:45</td>\n",
              "      <td>2018-08-13 00:00:00</td>\n",
              "    </tr>\n",
              "    <tr>\n",
              "      <th>2</th>\n",
              "      <td>47770eb9100c2d0c44946d9cf07ec65d</td>\n",
              "      <td>41ce2a54c0b03bf3443c3d931a367089</td>\n",
              "      <td>delivered</td>\n",
              "      <td>2018-08-08 08:38:49</td>\n",
              "      <td>2018-08-08 08:55:23</td>\n",
              "      <td>2018-08-08 13:50:00</td>\n",
              "      <td>2018-08-17 18:06:29</td>\n",
              "      <td>2018-09-04 00:00:00</td>\n",
              "    </tr>\n",
              "    <tr>\n",
              "      <th>3</th>\n",
              "      <td>949d5b44dbf5de918fe9c16f97b45f8a</td>\n",
              "      <td>f88197465ea7920adcdbec7375364d82</td>\n",
              "      <td>delivered</td>\n",
              "      <td>2017-11-18 19:28:06</td>\n",
              "      <td>2017-11-18 19:45:59</td>\n",
              "      <td>2017-11-22 13:39:59</td>\n",
              "      <td>2017-12-02 00:28:42</td>\n",
              "      <td>2017-12-15 00:00:00</td>\n",
              "    </tr>\n",
              "    <tr>\n",
              "      <th>4</th>\n",
              "      <td>ad21c59c0840e6cb83a9ceb5573f8159</td>\n",
              "      <td>8ab97904e6daea8866dbdbc4fb7aad2c</td>\n",
              "      <td>delivered</td>\n",
              "      <td>2018-02-13 21:18:39</td>\n",
              "      <td>2018-02-13 22:20:29</td>\n",
              "      <td>2018-02-14 19:46:34</td>\n",
              "      <td>2018-02-16 18:17:02</td>\n",
              "      <td>2018-02-26 00:00:00</td>\n",
              "    </tr>\n",
              "  </tbody>\n",
              "</table>\n",
              "</div>"
            ],
            "text/plain": [
              "                           order_id  ... order_estimated_delivery_date\n",
              "0  e481f51cbdc54678b7cc49136f2d6af7  ...           2017-10-18 00:00:00\n",
              "1  53cdb2fc8bc7dce0b6741e2150273451  ...           2018-08-13 00:00:00\n",
              "2  47770eb9100c2d0c44946d9cf07ec65d  ...           2018-09-04 00:00:00\n",
              "3  949d5b44dbf5de918fe9c16f97b45f8a  ...           2017-12-15 00:00:00\n",
              "4  ad21c59c0840e6cb83a9ceb5573f8159  ...           2018-02-26 00:00:00\n",
              "\n",
              "[5 rows x 8 columns]"
            ]
          },
          "metadata": {
            "tags": []
          },
          "execution_count": 6
        }
      ]
    },
    {
      "cell_type": "code",
      "metadata": {
        "colab": {
          "base_uri": "https://localhost:8080/",
          "height": 205
        },
        "id": "FnxPJoRcX7Hn",
        "outputId": "38fa58ad-bf79-4792-c734-3753f3034ac0"
      },
      "source": [
        "payments.head(5)"
      ],
      "execution_count": 7,
      "outputs": [
        {
          "output_type": "execute_result",
          "data": {
            "text/html": [
              "<div>\n",
              "<style scoped>\n",
              "    .dataframe tbody tr th:only-of-type {\n",
              "        vertical-align: middle;\n",
              "    }\n",
              "\n",
              "    .dataframe tbody tr th {\n",
              "        vertical-align: top;\n",
              "    }\n",
              "\n",
              "    .dataframe thead th {\n",
              "        text-align: right;\n",
              "    }\n",
              "</style>\n",
              "<table border=\"1\" class=\"dataframe\">\n",
              "  <thead>\n",
              "    <tr style=\"text-align: right;\">\n",
              "      <th></th>\n",
              "      <th>order_id</th>\n",
              "      <th>payment_sequential</th>\n",
              "      <th>payment_type</th>\n",
              "      <th>payment_installments</th>\n",
              "      <th>payment_value</th>\n",
              "    </tr>\n",
              "  </thead>\n",
              "  <tbody>\n",
              "    <tr>\n",
              "      <th>0</th>\n",
              "      <td>b81ef226f3fe1789b1e8b2acac839d17</td>\n",
              "      <td>1</td>\n",
              "      <td>credit_card</td>\n",
              "      <td>8</td>\n",
              "      <td>99.33</td>\n",
              "    </tr>\n",
              "    <tr>\n",
              "      <th>1</th>\n",
              "      <td>a9810da82917af2d9aefd1278f1dcfa0</td>\n",
              "      <td>1</td>\n",
              "      <td>credit_card</td>\n",
              "      <td>1</td>\n",
              "      <td>24.39</td>\n",
              "    </tr>\n",
              "    <tr>\n",
              "      <th>2</th>\n",
              "      <td>25e8ea4e93396b6fa0d3dd708e76c1bd</td>\n",
              "      <td>1</td>\n",
              "      <td>credit_card</td>\n",
              "      <td>1</td>\n",
              "      <td>65.71</td>\n",
              "    </tr>\n",
              "    <tr>\n",
              "      <th>3</th>\n",
              "      <td>ba78997921bbcdc1373bb41e913ab953</td>\n",
              "      <td>1</td>\n",
              "      <td>credit_card</td>\n",
              "      <td>8</td>\n",
              "      <td>107.78</td>\n",
              "    </tr>\n",
              "    <tr>\n",
              "      <th>4</th>\n",
              "      <td>42fdf880ba16b47b59251dd489d4441a</td>\n",
              "      <td>1</td>\n",
              "      <td>credit_card</td>\n",
              "      <td>2</td>\n",
              "      <td>128.45</td>\n",
              "    </tr>\n",
              "  </tbody>\n",
              "</table>\n",
              "</div>"
            ],
            "text/plain": [
              "                           order_id  ...  payment_value\n",
              "0  b81ef226f3fe1789b1e8b2acac839d17  ...          99.33\n",
              "1  a9810da82917af2d9aefd1278f1dcfa0  ...          24.39\n",
              "2  25e8ea4e93396b6fa0d3dd708e76c1bd  ...          65.71\n",
              "3  ba78997921bbcdc1373bb41e913ab953  ...         107.78\n",
              "4  42fdf880ba16b47b59251dd489d4441a  ...         128.45\n",
              "\n",
              "[5 rows x 5 columns]"
            ]
          },
          "metadata": {
            "tags": []
          },
          "execution_count": 7
        }
      ]
    },
    {
      "cell_type": "code",
      "metadata": {
        "colab": {
          "base_uri": "https://localhost:8080/",
          "height": 225
        },
        "id": "OP19I_2TX7Hp",
        "outputId": "828388c4-cafe-4671-d5d4-09847863cbe7"
      },
      "source": [
        "products.head(5)"
      ],
      "execution_count": 8,
      "outputs": [
        {
          "output_type": "execute_result",
          "data": {
            "text/html": [
              "<div>\n",
              "<style scoped>\n",
              "    .dataframe tbody tr th:only-of-type {\n",
              "        vertical-align: middle;\n",
              "    }\n",
              "\n",
              "    .dataframe tbody tr th {\n",
              "        vertical-align: top;\n",
              "    }\n",
              "\n",
              "    .dataframe thead th {\n",
              "        text-align: right;\n",
              "    }\n",
              "</style>\n",
              "<table border=\"1\" class=\"dataframe\">\n",
              "  <thead>\n",
              "    <tr style=\"text-align: right;\">\n",
              "      <th></th>\n",
              "      <th>product_id</th>\n",
              "      <th>product_category_name</th>\n",
              "      <th>product_name_lenght</th>\n",
              "      <th>product_description_lenght</th>\n",
              "      <th>product_photos_qty</th>\n",
              "      <th>product_weight_g</th>\n",
              "      <th>product_length_cm</th>\n",
              "      <th>product_height_cm</th>\n",
              "      <th>product_width_cm</th>\n",
              "    </tr>\n",
              "  </thead>\n",
              "  <tbody>\n",
              "    <tr>\n",
              "      <th>0</th>\n",
              "      <td>1e9e8ef04dbcff4541ed26657ea517e5</td>\n",
              "      <td>perfumaria</td>\n",
              "      <td>40.0</td>\n",
              "      <td>287.0</td>\n",
              "      <td>1.0</td>\n",
              "      <td>225.0</td>\n",
              "      <td>16.0</td>\n",
              "      <td>10.0</td>\n",
              "      <td>14.0</td>\n",
              "    </tr>\n",
              "    <tr>\n",
              "      <th>1</th>\n",
              "      <td>3aa071139cb16b67ca9e5dea641aaa2f</td>\n",
              "      <td>artes</td>\n",
              "      <td>44.0</td>\n",
              "      <td>276.0</td>\n",
              "      <td>1.0</td>\n",
              "      <td>1000.0</td>\n",
              "      <td>30.0</td>\n",
              "      <td>18.0</td>\n",
              "      <td>20.0</td>\n",
              "    </tr>\n",
              "    <tr>\n",
              "      <th>2</th>\n",
              "      <td>96bd76ec8810374ed1b65e291975717f</td>\n",
              "      <td>esporte_lazer</td>\n",
              "      <td>46.0</td>\n",
              "      <td>250.0</td>\n",
              "      <td>1.0</td>\n",
              "      <td>154.0</td>\n",
              "      <td>18.0</td>\n",
              "      <td>9.0</td>\n",
              "      <td>15.0</td>\n",
              "    </tr>\n",
              "    <tr>\n",
              "      <th>3</th>\n",
              "      <td>cef67bcfe19066a932b7673e239eb23d</td>\n",
              "      <td>bebes</td>\n",
              "      <td>27.0</td>\n",
              "      <td>261.0</td>\n",
              "      <td>1.0</td>\n",
              "      <td>371.0</td>\n",
              "      <td>26.0</td>\n",
              "      <td>4.0</td>\n",
              "      <td>26.0</td>\n",
              "    </tr>\n",
              "    <tr>\n",
              "      <th>4</th>\n",
              "      <td>9dc1a7de274444849c219cff195d0b71</td>\n",
              "      <td>utilidades_domesticas</td>\n",
              "      <td>37.0</td>\n",
              "      <td>402.0</td>\n",
              "      <td>4.0</td>\n",
              "      <td>625.0</td>\n",
              "      <td>20.0</td>\n",
              "      <td>17.0</td>\n",
              "      <td>13.0</td>\n",
              "    </tr>\n",
              "  </tbody>\n",
              "</table>\n",
              "</div>"
            ],
            "text/plain": [
              "                         product_id  ... product_width_cm\n",
              "0  1e9e8ef04dbcff4541ed26657ea517e5  ...             14.0\n",
              "1  3aa071139cb16b67ca9e5dea641aaa2f  ...             20.0\n",
              "2  96bd76ec8810374ed1b65e291975717f  ...             15.0\n",
              "3  cef67bcfe19066a932b7673e239eb23d  ...             26.0\n",
              "4  9dc1a7de274444849c219cff195d0b71  ...             13.0\n",
              "\n",
              "[5 rows x 9 columns]"
            ]
          },
          "metadata": {
            "tags": []
          },
          "execution_count": 8
        }
      ]
    },
    {
      "cell_type": "markdown",
      "metadata": {
        "id": "7NNogTc1X7Hw"
      },
      "source": [
        "**Quantos clientes temos, quantos pedidos e quantos pedidos por clientes temos**"
      ]
    },
    {
      "cell_type": "code",
      "metadata": {
        "colab": {
          "base_uri": "https://localhost:8080/"
        },
        "id": "0E-YJqp1X7Hx",
        "outputId": "0be555c8-68d4-4d01-f23d-465478ad3ff1"
      },
      "source": [
        "customers_information = customers['customer_unique_id'].nunique()\n",
        "orders_information = orders.order_id.nunique()\n",
        "print(\"Quantidade de clientes:\", customers_information)\n",
        "print(\"Quantidade de pedidos:\", orders_information)\n",
        "print(f\"Quantidade de pedidos por clientes: {orders_information / customers_information:.2f}\")"
      ],
      "execution_count": 9,
      "outputs": [
        {
          "output_type": "stream",
          "text": [
            "Quantidade de clientes: 96096\n",
            "Quantidade de pedidos: 99441\n",
            "Quantidade de pedidos por clientes: 1.03\n"
          ],
          "name": "stdout"
        }
      ]
    },
    {
      "cell_type": "markdown",
      "metadata": {
        "id": "royDXhynX7Hz"
      },
      "source": [
        "Quase todos os clientes contidos nestes dados fizeram apenas 1 compra.\n",
        "\n",
        "**Juntando os dados (joins)**"
      ]
    },
    {
      "cell_type": "code",
      "metadata": {
        "colab": {
          "base_uri": "https://localhost:8080/",
          "height": 163
        },
        "id": "XuB-QFc6X7H0",
        "outputId": "ca86fbc8-09a7-4ae3-8f0e-81ccefed595e"
      },
      "source": [
        "pedidos_clientes_informacoes = pd.merge(orders, customers, on='customer_id')\n",
        "pedidos_clientes_informacoes = pedidos_clientes_informacoes.merge(items, on='order_id')\n",
        "pedidos_clientes_informacoes = pedidos_clientes_informacoes.merge(payments, on='order_id')\n",
        "pedidos_clientes_informacoes = pedidos_clientes_informacoes.merge(products, on='product_id')\n",
        "pedidos_clientes_informacoes.head(3)"
      ],
      "execution_count": 110,
      "outputs": [
        {
          "output_type": "execute_result",
          "data": {
            "text/html": [
              "<div>\n",
              "<style scoped>\n",
              "    .dataframe tbody tr th:only-of-type {\n",
              "        vertical-align: middle;\n",
              "    }\n",
              "\n",
              "    .dataframe tbody tr th {\n",
              "        vertical-align: top;\n",
              "    }\n",
              "\n",
              "    .dataframe thead th {\n",
              "        text-align: right;\n",
              "    }\n",
              "</style>\n",
              "<table border=\"1\" class=\"dataframe\">\n",
              "  <thead>\n",
              "    <tr style=\"text-align: right;\">\n",
              "      <th></th>\n",
              "      <th>order_id</th>\n",
              "      <th>customer_id</th>\n",
              "      <th>order_status</th>\n",
              "      <th>order_purchase_timestamp</th>\n",
              "      <th>order_approved_at</th>\n",
              "      <th>order_delivered_carrier_date</th>\n",
              "      <th>order_delivered_customer_date</th>\n",
              "      <th>order_estimated_delivery_date</th>\n",
              "      <th>customer_unique_id</th>\n",
              "      <th>customer_zip_code_prefix</th>\n",
              "      <th>customer_city</th>\n",
              "      <th>customer_state</th>\n",
              "      <th>order_item_id</th>\n",
              "      <th>product_id</th>\n",
              "      <th>seller_id</th>\n",
              "      <th>shipping_limit_date</th>\n",
              "      <th>price</th>\n",
              "      <th>freight_value</th>\n",
              "      <th>payment_sequential</th>\n",
              "      <th>payment_type</th>\n",
              "      <th>payment_installments</th>\n",
              "      <th>payment_value</th>\n",
              "      <th>product_category_name</th>\n",
              "      <th>product_name_lenght</th>\n",
              "      <th>product_description_lenght</th>\n",
              "      <th>product_photos_qty</th>\n",
              "      <th>product_weight_g</th>\n",
              "      <th>product_length_cm</th>\n",
              "      <th>product_height_cm</th>\n",
              "      <th>product_width_cm</th>\n",
              "    </tr>\n",
              "  </thead>\n",
              "  <tbody>\n",
              "    <tr>\n",
              "      <th>0</th>\n",
              "      <td>e481f51cbdc54678b7cc49136f2d6af7</td>\n",
              "      <td>9ef432eb6251297304e76186b10a928d</td>\n",
              "      <td>delivered</td>\n",
              "      <td>2017-10-02 10:56:33</td>\n",
              "      <td>2017-10-02 11:07:15</td>\n",
              "      <td>2017-10-04 19:55:00</td>\n",
              "      <td>2017-10-10 21:25:13</td>\n",
              "      <td>2017-10-18 00:00:00</td>\n",
              "      <td>7c396fd4830fd04220f754e42b4e5bff</td>\n",
              "      <td>3149</td>\n",
              "      <td>sao paulo</td>\n",
              "      <td>SP</td>\n",
              "      <td>1</td>\n",
              "      <td>87285b34884572647811a353c7ac498a</td>\n",
              "      <td>3504c0cb71d7fa48d967e0e4c94d59d9</td>\n",
              "      <td>2017-10-06 11:07:15</td>\n",
              "      <td>29.99</td>\n",
              "      <td>8.72</td>\n",
              "      <td>1</td>\n",
              "      <td>credit_card</td>\n",
              "      <td>1</td>\n",
              "      <td>18.12</td>\n",
              "      <td>utilidades_domesticas</td>\n",
              "      <td>40.0</td>\n",
              "      <td>268.0</td>\n",
              "      <td>4.0</td>\n",
              "      <td>500.0</td>\n",
              "      <td>19.0</td>\n",
              "      <td>8.0</td>\n",
              "      <td>13.0</td>\n",
              "    </tr>\n",
              "    <tr>\n",
              "      <th>1</th>\n",
              "      <td>e481f51cbdc54678b7cc49136f2d6af7</td>\n",
              "      <td>9ef432eb6251297304e76186b10a928d</td>\n",
              "      <td>delivered</td>\n",
              "      <td>2017-10-02 10:56:33</td>\n",
              "      <td>2017-10-02 11:07:15</td>\n",
              "      <td>2017-10-04 19:55:00</td>\n",
              "      <td>2017-10-10 21:25:13</td>\n",
              "      <td>2017-10-18 00:00:00</td>\n",
              "      <td>7c396fd4830fd04220f754e42b4e5bff</td>\n",
              "      <td>3149</td>\n",
              "      <td>sao paulo</td>\n",
              "      <td>SP</td>\n",
              "      <td>1</td>\n",
              "      <td>87285b34884572647811a353c7ac498a</td>\n",
              "      <td>3504c0cb71d7fa48d967e0e4c94d59d9</td>\n",
              "      <td>2017-10-06 11:07:15</td>\n",
              "      <td>29.99</td>\n",
              "      <td>8.72</td>\n",
              "      <td>3</td>\n",
              "      <td>voucher</td>\n",
              "      <td>1</td>\n",
              "      <td>2.00</td>\n",
              "      <td>utilidades_domesticas</td>\n",
              "      <td>40.0</td>\n",
              "      <td>268.0</td>\n",
              "      <td>4.0</td>\n",
              "      <td>500.0</td>\n",
              "      <td>19.0</td>\n",
              "      <td>8.0</td>\n",
              "      <td>13.0</td>\n",
              "    </tr>\n",
              "    <tr>\n",
              "      <th>2</th>\n",
              "      <td>e481f51cbdc54678b7cc49136f2d6af7</td>\n",
              "      <td>9ef432eb6251297304e76186b10a928d</td>\n",
              "      <td>delivered</td>\n",
              "      <td>2017-10-02 10:56:33</td>\n",
              "      <td>2017-10-02 11:07:15</td>\n",
              "      <td>2017-10-04 19:55:00</td>\n",
              "      <td>2017-10-10 21:25:13</td>\n",
              "      <td>2017-10-18 00:00:00</td>\n",
              "      <td>7c396fd4830fd04220f754e42b4e5bff</td>\n",
              "      <td>3149</td>\n",
              "      <td>sao paulo</td>\n",
              "      <td>SP</td>\n",
              "      <td>1</td>\n",
              "      <td>87285b34884572647811a353c7ac498a</td>\n",
              "      <td>3504c0cb71d7fa48d967e0e4c94d59d9</td>\n",
              "      <td>2017-10-06 11:07:15</td>\n",
              "      <td>29.99</td>\n",
              "      <td>8.72</td>\n",
              "      <td>2</td>\n",
              "      <td>voucher</td>\n",
              "      <td>1</td>\n",
              "      <td>18.59</td>\n",
              "      <td>utilidades_domesticas</td>\n",
              "      <td>40.0</td>\n",
              "      <td>268.0</td>\n",
              "      <td>4.0</td>\n",
              "      <td>500.0</td>\n",
              "      <td>19.0</td>\n",
              "      <td>8.0</td>\n",
              "      <td>13.0</td>\n",
              "    </tr>\n",
              "  </tbody>\n",
              "</table>\n",
              "</div>"
            ],
            "text/plain": [
              "                           order_id  ... product_width_cm\n",
              "0  e481f51cbdc54678b7cc49136f2d6af7  ...             13.0\n",
              "1  e481f51cbdc54678b7cc49136f2d6af7  ...             13.0\n",
              "2  e481f51cbdc54678b7cc49136f2d6af7  ...             13.0\n",
              "\n",
              "[3 rows x 30 columns]"
            ]
          },
          "metadata": {
            "tags": []
          },
          "execution_count": 110
        }
      ]
    },
    {
      "cell_type": "markdown",
      "metadata": {
        "id": "4eVAahyJpQtB"
      },
      "source": [
        "Escolhendo as colunas que quero trabalhar"
      ]
    },
    {
      "cell_type": "code",
      "metadata": {
        "id": "1tmY-mQMposo"
      },
      "source": [
        "pedidos_clientes_informacoes = pedidos_clientes_informacoes[['customer_unique_id', 'customer_city', 'customer_state', 'order_status', 'order_item_id', 'order_id',\n",
        "                              'price','freight_value', 'payment_sequential','payment_type','payment_installments', 'payment_value', 'product_id','product_category_name']]"
      ],
      "execution_count": 111,
      "outputs": []
    },
    {
      "cell_type": "code",
      "metadata": {
        "colab": {
          "base_uri": "https://localhost:8080/",
          "height": 476
        },
        "id": "oTtUbTn0rLDh",
        "outputId": "f2177c42-76d2-4067-fa31-1fa762b183d1"
      },
      "source": [
        "pedidos_clientes_informacoes"
      ],
      "execution_count": 104,
      "outputs": [
        {
          "output_type": "execute_result",
          "data": {
            "text/html": [
              "<div>\n",
              "<style scoped>\n",
              "    .dataframe tbody tr th:only-of-type {\n",
              "        vertical-align: middle;\n",
              "    }\n",
              "\n",
              "    .dataframe tbody tr th {\n",
              "        vertical-align: top;\n",
              "    }\n",
              "\n",
              "    .dataframe thead th {\n",
              "        text-align: right;\n",
              "    }\n",
              "</style>\n",
              "<table border=\"1\" class=\"dataframe\">\n",
              "  <thead>\n",
              "    <tr style=\"text-align: right;\">\n",
              "      <th></th>\n",
              "      <th>customer_unique_id</th>\n",
              "      <th>customer_city</th>\n",
              "      <th>customer_state</th>\n",
              "      <th>order_status</th>\n",
              "      <th>order_item_id</th>\n",
              "      <th>order_id</th>\n",
              "      <th>price</th>\n",
              "      <th>freight_value</th>\n",
              "      <th>payment_sequential</th>\n",
              "      <th>payment_type</th>\n",
              "      <th>payment_installments</th>\n",
              "      <th>payment_value</th>\n",
              "      <th>product_id</th>\n",
              "      <th>product_category_name</th>\n",
              "    </tr>\n",
              "  </thead>\n",
              "  <tbody>\n",
              "    <tr>\n",
              "      <th>0</th>\n",
              "      <td>7c396fd4830fd04220f754e42b4e5bff</td>\n",
              "      <td>sao paulo</td>\n",
              "      <td>SP</td>\n",
              "      <td>delivered</td>\n",
              "      <td>1</td>\n",
              "      <td>e481f51cbdc54678b7cc49136f2d6af7</td>\n",
              "      <td>29.99</td>\n",
              "      <td>8.72</td>\n",
              "      <td>1</td>\n",
              "      <td>credit_card</td>\n",
              "      <td>1</td>\n",
              "      <td>18.12</td>\n",
              "      <td>87285b34884572647811a353c7ac498a</td>\n",
              "      <td>utilidades_domesticas</td>\n",
              "    </tr>\n",
              "    <tr>\n",
              "      <th>1</th>\n",
              "      <td>7c396fd4830fd04220f754e42b4e5bff</td>\n",
              "      <td>sao paulo</td>\n",
              "      <td>SP</td>\n",
              "      <td>delivered</td>\n",
              "      <td>1</td>\n",
              "      <td>e481f51cbdc54678b7cc49136f2d6af7</td>\n",
              "      <td>29.99</td>\n",
              "      <td>8.72</td>\n",
              "      <td>3</td>\n",
              "      <td>voucher</td>\n",
              "      <td>1</td>\n",
              "      <td>2.00</td>\n",
              "      <td>87285b34884572647811a353c7ac498a</td>\n",
              "      <td>utilidades_domesticas</td>\n",
              "    </tr>\n",
              "    <tr>\n",
              "      <th>2</th>\n",
              "      <td>7c396fd4830fd04220f754e42b4e5bff</td>\n",
              "      <td>sao paulo</td>\n",
              "      <td>SP</td>\n",
              "      <td>delivered</td>\n",
              "      <td>1</td>\n",
              "      <td>e481f51cbdc54678b7cc49136f2d6af7</td>\n",
              "      <td>29.99</td>\n",
              "      <td>8.72</td>\n",
              "      <td>2</td>\n",
              "      <td>voucher</td>\n",
              "      <td>1</td>\n",
              "      <td>18.59</td>\n",
              "      <td>87285b34884572647811a353c7ac498a</td>\n",
              "      <td>utilidades_domesticas</td>\n",
              "    </tr>\n",
              "    <tr>\n",
              "      <th>3</th>\n",
              "      <td>3a51803cc0d012c3b5dc8b7528cb05f7</td>\n",
              "      <td>sao paulo</td>\n",
              "      <td>SP</td>\n",
              "      <td>delivered</td>\n",
              "      <td>1</td>\n",
              "      <td>128e10d95713541c87cd1a2e48201934</td>\n",
              "      <td>29.99</td>\n",
              "      <td>7.78</td>\n",
              "      <td>1</td>\n",
              "      <td>credit_card</td>\n",
              "      <td>3</td>\n",
              "      <td>37.77</td>\n",
              "      <td>87285b34884572647811a353c7ac498a</td>\n",
              "      <td>utilidades_domesticas</td>\n",
              "    </tr>\n",
              "    <tr>\n",
              "      <th>4</th>\n",
              "      <td>ef0996a1a279c26e7ecbd737be23d235</td>\n",
              "      <td>sao paulo</td>\n",
              "      <td>SP</td>\n",
              "      <td>delivered</td>\n",
              "      <td>1</td>\n",
              "      <td>0e7e841ddf8f8f2de2bad69267ecfbcf</td>\n",
              "      <td>29.99</td>\n",
              "      <td>7.78</td>\n",
              "      <td>1</td>\n",
              "      <td>credit_card</td>\n",
              "      <td>1</td>\n",
              "      <td>37.77</td>\n",
              "      <td>87285b34884572647811a353c7ac498a</td>\n",
              "      <td>utilidades_domesticas</td>\n",
              "    </tr>\n",
              "    <tr>\n",
              "      <th>...</th>\n",
              "      <td>...</td>\n",
              "      <td>...</td>\n",
              "      <td>...</td>\n",
              "      <td>...</td>\n",
              "      <td>...</td>\n",
              "      <td>...</td>\n",
              "      <td>...</td>\n",
              "      <td>...</td>\n",
              "      <td>...</td>\n",
              "      <td>...</td>\n",
              "      <td>...</td>\n",
              "      <td>...</td>\n",
              "      <td>...</td>\n",
              "      <td>...</td>\n",
              "    </tr>\n",
              "    <tr>\n",
              "      <th>117596</th>\n",
              "      <td>fb9310710003399b031add3e55f34719</td>\n",
              "      <td>sao paulo</td>\n",
              "      <td>SP</td>\n",
              "      <td>delivered</td>\n",
              "      <td>1</td>\n",
              "      <td>e8fd20068b9f7e6ec07068bb7537f781</td>\n",
              "      <td>356.00</td>\n",
              "      <td>18.12</td>\n",
              "      <td>1</td>\n",
              "      <td>credit_card</td>\n",
              "      <td>10</td>\n",
              "      <td>748.24</td>\n",
              "      <td>0df37da38a30a713453b03053d60d3f7</td>\n",
              "      <td>esporte_lazer</td>\n",
              "    </tr>\n",
              "    <tr>\n",
              "      <th>117597</th>\n",
              "      <td>fb9310710003399b031add3e55f34719</td>\n",
              "      <td>sao paulo</td>\n",
              "      <td>SP</td>\n",
              "      <td>delivered</td>\n",
              "      <td>2</td>\n",
              "      <td>e8fd20068b9f7e6ec07068bb7537f781</td>\n",
              "      <td>356.00</td>\n",
              "      <td>18.12</td>\n",
              "      <td>1</td>\n",
              "      <td>credit_card</td>\n",
              "      <td>10</td>\n",
              "      <td>748.24</td>\n",
              "      <td>0df37da38a30a713453b03053d60d3f7</td>\n",
              "      <td>esporte_lazer</td>\n",
              "    </tr>\n",
              "    <tr>\n",
              "      <th>117598</th>\n",
              "      <td>a49e8e11e850592fe685ae3c64b40eca</td>\n",
              "      <td>campo do tenente</td>\n",
              "      <td>PR</td>\n",
              "      <td>delivered</td>\n",
              "      <td>1</td>\n",
              "      <td>cfa78b997e329a5295b4ee6972c02979</td>\n",
              "      <td>55.90</td>\n",
              "      <td>15.14</td>\n",
              "      <td>1</td>\n",
              "      <td>credit_card</td>\n",
              "      <td>1</td>\n",
              "      <td>71.04</td>\n",
              "      <td>3d2c44374ee42b3003a470f3e937a2ea</td>\n",
              "      <td>instrumentos_musicais</td>\n",
              "    </tr>\n",
              "    <tr>\n",
              "      <th>117599</th>\n",
              "      <td>6359f309b166b0196dbf7ad2ac62bb5a</td>\n",
              "      <td>sao jose dos campos</td>\n",
              "      <td>SP</td>\n",
              "      <td>delivered</td>\n",
              "      <td>1</td>\n",
              "      <td>9c5dedf39a927c1b2549525ed64a053c</td>\n",
              "      <td>72.00</td>\n",
              "      <td>13.08</td>\n",
              "      <td>1</td>\n",
              "      <td>credit_card</td>\n",
              "      <td>3</td>\n",
              "      <td>85.08</td>\n",
              "      <td>ac35486adb7b02598c182c2ff2e05254</td>\n",
              "      <td>beleza_saude</td>\n",
              "    </tr>\n",
              "    <tr>\n",
              "      <th>117600</th>\n",
              "      <td>60350aa974b26ff12caad89e55993bd6</td>\n",
              "      <td>lapa</td>\n",
              "      <td>PR</td>\n",
              "      <td>delivered</td>\n",
              "      <td>1</td>\n",
              "      <td>66dea50a8b16d9b4dee7af250b4be1a5</td>\n",
              "      <td>68.50</td>\n",
              "      <td>18.36</td>\n",
              "      <td>1</td>\n",
              "      <td>debit_card</td>\n",
              "      <td>1</td>\n",
              "      <td>86.86</td>\n",
              "      <td>006619bbed68b000c8ba3f8725d5409e</td>\n",
              "      <td>beleza_saude</td>\n",
              "    </tr>\n",
              "  </tbody>\n",
              "</table>\n",
              "<p>117601 rows × 14 columns</p>\n",
              "</div>"
            ],
            "text/plain": [
              "                      customer_unique_id  ...  product_category_name\n",
              "0       7c396fd4830fd04220f754e42b4e5bff  ...  utilidades_domesticas\n",
              "1       7c396fd4830fd04220f754e42b4e5bff  ...  utilidades_domesticas\n",
              "2       7c396fd4830fd04220f754e42b4e5bff  ...  utilidades_domesticas\n",
              "3       3a51803cc0d012c3b5dc8b7528cb05f7  ...  utilidades_domesticas\n",
              "4       ef0996a1a279c26e7ecbd737be23d235  ...  utilidades_domesticas\n",
              "...                                  ...  ...                    ...\n",
              "117596  fb9310710003399b031add3e55f34719  ...          esporte_lazer\n",
              "117597  fb9310710003399b031add3e55f34719  ...          esporte_lazer\n",
              "117598  a49e8e11e850592fe685ae3c64b40eca  ...  instrumentos_musicais\n",
              "117599  6359f309b166b0196dbf7ad2ac62bb5a  ...           beleza_saude\n",
              "117600  60350aa974b26ff12caad89e55993bd6  ...           beleza_saude\n",
              "\n",
              "[117601 rows x 14 columns]"
            ]
          },
          "metadata": {
            "tags": []
          },
          "execution_count": 104
        }
      ]
    },
    {
      "cell_type": "markdown",
      "metadata": {
        "id": "TccJyM9ZozFi"
      },
      "source": [
        "**Renomeando as colunas **"
      ]
    },
    {
      "cell_type": "code",
      "metadata": {
        "id": "orVaUHgZoqNR"
      },
      "source": [
        "pedidos_clientes_informacoes = pedidos_clientes_informacoes.rename(columns = {'customer_unique_id':'id_unico_cliente', 'customer_city':'cidade_clientes','customer_state':'estado_cliente', \n",
        "                                                                              'order_status':'status_pedido','order_item_id':'id_item_pedido','price':'preco_item','freight_value':'valor_frete',\n",
        "                                                                              'payment_sequential': 'pagamento_sequencial','payment_type':'tipo_pagamento', 'payment_installments':'quantidade_parcelas',\n",
        "                                                                              'payment_value':'valor_pago','product_id':'id_produto','product_category_name':'categoria_produto', 'order_id':'id_pedido'})"
      ],
      "execution_count": 112,
      "outputs": []
    },
    {
      "cell_type": "code",
      "metadata": {
        "colab": {
          "base_uri": "https://localhost:8080/",
          "height": 132
        },
        "id": "0qwSHqu4rOHT",
        "outputId": "39144421-21de-42d4-8603-e8f62d8a9b4e"
      },
      "source": [
        "pedidos_clientes_informacoes.head(2)"
      ],
      "execution_count": 113,
      "outputs": [
        {
          "output_type": "execute_result",
          "data": {
            "text/html": [
              "<div>\n",
              "<style scoped>\n",
              "    .dataframe tbody tr th:only-of-type {\n",
              "        vertical-align: middle;\n",
              "    }\n",
              "\n",
              "    .dataframe tbody tr th {\n",
              "        vertical-align: top;\n",
              "    }\n",
              "\n",
              "    .dataframe thead th {\n",
              "        text-align: right;\n",
              "    }\n",
              "</style>\n",
              "<table border=\"1\" class=\"dataframe\">\n",
              "  <thead>\n",
              "    <tr style=\"text-align: right;\">\n",
              "      <th></th>\n",
              "      <th>id_unico_cliente</th>\n",
              "      <th>cidade_clientes</th>\n",
              "      <th>estado_cliente</th>\n",
              "      <th>status_pedido</th>\n",
              "      <th>id_item_pedido</th>\n",
              "      <th>id_pedido</th>\n",
              "      <th>preco_item</th>\n",
              "      <th>valor_frete</th>\n",
              "      <th>pagamento_sequencial</th>\n",
              "      <th>tipo_pagamento</th>\n",
              "      <th>quantidade_parcelas</th>\n",
              "      <th>valor_pago</th>\n",
              "      <th>id_produto</th>\n",
              "      <th>categoria_produto</th>\n",
              "    </tr>\n",
              "  </thead>\n",
              "  <tbody>\n",
              "    <tr>\n",
              "      <th>0</th>\n",
              "      <td>7c396fd4830fd04220f754e42b4e5bff</td>\n",
              "      <td>sao paulo</td>\n",
              "      <td>SP</td>\n",
              "      <td>delivered</td>\n",
              "      <td>1</td>\n",
              "      <td>e481f51cbdc54678b7cc49136f2d6af7</td>\n",
              "      <td>29.99</td>\n",
              "      <td>8.72</td>\n",
              "      <td>1</td>\n",
              "      <td>credit_card</td>\n",
              "      <td>1</td>\n",
              "      <td>18.12</td>\n",
              "      <td>87285b34884572647811a353c7ac498a</td>\n",
              "      <td>utilidades_domesticas</td>\n",
              "    </tr>\n",
              "    <tr>\n",
              "      <th>1</th>\n",
              "      <td>7c396fd4830fd04220f754e42b4e5bff</td>\n",
              "      <td>sao paulo</td>\n",
              "      <td>SP</td>\n",
              "      <td>delivered</td>\n",
              "      <td>1</td>\n",
              "      <td>e481f51cbdc54678b7cc49136f2d6af7</td>\n",
              "      <td>29.99</td>\n",
              "      <td>8.72</td>\n",
              "      <td>3</td>\n",
              "      <td>voucher</td>\n",
              "      <td>1</td>\n",
              "      <td>2.00</td>\n",
              "      <td>87285b34884572647811a353c7ac498a</td>\n",
              "      <td>utilidades_domesticas</td>\n",
              "    </tr>\n",
              "  </tbody>\n",
              "</table>\n",
              "</div>"
            ],
            "text/plain": [
              "                   id_unico_cliente  ...      categoria_produto\n",
              "0  7c396fd4830fd04220f754e42b4e5bff  ...  utilidades_domesticas\n",
              "1  7c396fd4830fd04220f754e42b4e5bff  ...  utilidades_domesticas\n",
              "\n",
              "[2 rows x 14 columns]"
            ]
          },
          "metadata": {
            "tags": []
          },
          "execution_count": 113
        }
      ]
    },
    {
      "cell_type": "code",
      "metadata": {
        "colab": {
          "base_uri": "https://localhost:8080/"
        },
        "id": "NcEOniHqoV_L",
        "outputId": "5b10436a-197e-40c7-f569-f03f5a8fc08a"
      },
      "source": [
        "pedidos_clientes_informacoes.dtypes"
      ],
      "execution_count": 15,
      "outputs": [
        {
          "output_type": "execute_result",
          "data": {
            "text/plain": [
              "id_unico_cliente         object\n",
              "cidade_clientes          object\n",
              "estado_cliente           object\n",
              "status_pedido            object\n",
              "id_item_pedido            int64\n",
              "preco_item              float64\n",
              "valor_frete             float64\n",
              "pagamento_sequencial      int64\n",
              "tipo_pagamento           object\n",
              "quantidade_parcelas       int64\n",
              "valor_pago              float64\n",
              "id_produto               object\n",
              "categoria_produto        object\n",
              "dtype: object"
            ]
          },
          "metadata": {
            "tags": []
          },
          "execution_count": 15
        }
      ]
    },
    {
      "cell_type": "markdown",
      "metadata": {
        "id": "qLjJG4SCBq-a"
      },
      "source": [
        "**Quantidade de pedidos/clientes por tipo de pagamento**"
      ]
    },
    {
      "cell_type": "markdown",
      "metadata": {
        "id": "TZ7CEviMX7H0"
      },
      "source": [
        "**Quantidade de pedidos/clientes por estado**"
      ]
    },
    {
      "cell_type": "code",
      "metadata": {
        "colab": {
          "base_uri": "https://localhost:8080/",
          "height": 607
        },
        "id": "Wl-_hBaqPpV1",
        "outputId": "e6e11ea6-18a9-4560-ea7f-28f8361e8389"
      },
      "source": [
        "pedidos_clientes_informacoes_por_estado = pedidos_clientes_informacoes[['id_unico_cliente', 'estado_cliente']].groupby('estado_cliente').count().reset_index()\n",
        "pedidos_clientes_informacoes_por_estado = pedidos_clientes_informacoes_por_estado.sort_values(by=['id_unico_cliente'])\n",
        "\n",
        "plt.style.use('seaborn-whitegrid')\n",
        "plt.figure(figsize=(15,10))\n",
        "plt.bar(pedidos_clientes_informacoes_por_estado['estado_cliente'],\n",
        "        pedidos_clientes_informacoes_por_estado['id_unico_cliente'], color = 'darkcyan')\n",
        "plt.grid(color='gray', linestyle='-', linewidth=0.7)\n",
        "plt.xlabel(\"Estados\", size = 16)\n",
        "plt.ylabel(\"Quantidade de clientes\", size = 16)\n",
        "plt.show()\n"
      ],
      "execution_count": 114,
      "outputs": [
        {
          "output_type": "display_data",
          "data": {
            "image/png": "[encoded data removed]",
            "text/plain": [
              "<Figure size 1080x720 with 1 Axes>"
            ]
          },
          "metadata": {
            "tags": []
          }
        }
      ]
    },
    {
      "cell_type": "markdown",
      "metadata": {
        "id": "BL9ec-Xs379p"
      },
      "source": [
        "**Quantidade de pedidos/clientes por tipo de pagamento**"
      ]
    },
    {
      "cell_type": "code",
      "metadata": {
        "colab": {
          "base_uri": "https://localhost:8080/",
          "height": 607
        },
        "id": "fty0qG1KBLKZ",
        "outputId": "bedb5737-0641-44be-854e-f46206c27c9a"
      },
      "source": [
        "pedidos_clientes_informacoes_por_tipo_pagamento = pedidos_clientes_informacoes[['id_pedido', 'tipo_pagamento']].groupby('tipo_pagamento').count().reset_index()\n",
        "pedidos_clientes_informacoes_por_tipo_pagamento = pedidos_clientes_informacoes_por_tipo_pagamento.sort_values(by=['id_pedido'])\n",
        "\n",
        "plt.style.use('seaborn-whitegrid')\n",
        "plt.figure(figsize=(15,10))\n",
        "plt.bar(pedidos_clientes_informacoes_por_tipo_pagamento['tipo_pagamento'],\n",
        "        pedidos_clientes_informacoes_por_tipo_pagamento['id_pedido'], color = 'darkcyan')\n",
        "plt.grid(color='gray', linestyle='-', linewidth=0.7)\n",
        "plt.xlabel(\"Tipo de pagamento\", size = 16)\n",
        "plt.ylabel(\"Quantidade de pedidos\", size = 16)\n",
        "plt.show()\n"
      ],
      "execution_count": 116,
      "outputs": [
        {
          "output_type": "display_data",
          "data": {
            "image/png": "[encoded data removed]",
            "text/plain": [
              "<Figure size 1080x720 with 1 Axes>"
            ]
          },
          "metadata": {
            "tags": []
          }
        }
      ]
    },
    {
      "cell_type": "markdown",
      "metadata": {
        "id": "diux83-2CKH1"
      },
      "source": [
        "Juntando os graficos"
      ]
    },
    {
      "cell_type": "code",
      "metadata": {
        "id": "ZFgZ5G84X7H1"
      },
      "source": [
        "# como fazer 2 graficos com grid em python com matplotlib \n",
        "#pedidos_clientes_informacoes_por_estado = pedidos_clientes_informacoes[['id_unico_cliente', 'estado_cliente']].groupby('estado_cliente').count().reset_index()\n",
        "#pedidos_clientes_informacoes_por_estado = pedidos_clientes_informacoes_por_estado.sort_values(by=['id_unico_cliente'])\n",
        "\n",
        "#pedidos_clientes_informacoes_por_estado2 = pedidos_clientes_informacoes[['id_produto', 'estado_cliente']].groupby('estado_cliente').count().reset_index()\n",
        "#pedidos_clientes_informacoes_por_estado2 = pedidos_clientes_informacoes_por_estado2.sort_values(by=['id_produto'])\n",
        "\n",
        "\n",
        "#fig, (ax1,ax2) = plt.subplots(1, 2, sharex=True, )\n",
        "#plt.style.use('seaborn-whitegrid')\n",
        "#ax1.bar(pedidos_clientes_informacoes_por_estado['estado_cliente'],\n",
        " #       pedidos_clientes_informacoes_por_estado['id_unico_cliente'], color = 'darkcyan')\n",
        "#ax2.bar(pedidos_clientes_informacoes_por_estado2['estado_cliente'],\n",
        " #       pedidos_clientes_informacoes_por_estado2['id_produto'], color = 'darkcyan')\n",
        "#plt.xlabel(\"Estados\", size = 16)\n",
        "#plt.ylabel(\"Quantidade de clientes\", size = 16)\n",
        "\n"
      ],
      "execution_count": 18,
      "outputs": []
    },
    {
      "cell_type": "markdown",
      "metadata": {
        "id": "oUUfIJyXCZ0r"
      },
      "source": [
        "Quantidade de parcelas por valor pago"
      ]
    },
    {
      "cell_type": "code",
      "metadata": {
        "colab": {
          "base_uri": "https://localhost:8080/",
          "height": 607
        },
        "id": "1ghe2ZFZCNfQ",
        "outputId": "ccd614e8-b2ff-4ff9-cf32-767cbc158fb9"
      },
      "source": [
        "plt.style.use('seaborn-whitegrid')\n",
        "plt.figure(figsize=(15,10))\n",
        "plt.boxplot(pedidos_clientes_informacoes['quantidade_parcelas'], vert=False)\n",
        "plt.xlabel('Quantidade de parcelas', size = 16)\n",
        "plt.show()"
      ],
      "execution_count": 54,
      "outputs": [
        {
          "output_type": "display_data",
          "data": {
            "image/png": "[encoded data removed]",
            "text/plain": [
              "<Figure size 1080x720 with 1 Axes>"
            ]
          },
          "metadata": {
            "tags": []
          }
        }
      ]
    },
    {
      "cell_type": "code",
      "metadata": {
        "colab": {
          "base_uri": "https://localhost:8080/"
        },
        "id": "cnMwBMn7Kd5k",
        "outputId": "6d4f2e97-ab1a-4fae-9200-b83b144d8d21"
      },
      "source": [
        "pedidos_clientes_informacoes['quantidade_parcelas'].apply(str)"
      ],
      "execution_count": 21,
      "outputs": [
        {
          "output_type": "execute_result",
          "data": {
            "text/plain": [
              "0          1\n",
              "1          1\n",
              "2          1\n",
              "3          3\n",
              "4          1\n",
              "          ..\n",
              "117596    10\n",
              "117597    10\n",
              "117598     1\n",
              "117599     3\n",
              "117600     1\n",
              "Name: quantidade_parcelas, Length: 117601, dtype: object"
            ]
          },
          "metadata": {
            "tags": []
          },
          "execution_count": 21
        }
      ]
    },
    {
      "cell_type": "code",
      "metadata": {
        "colab": {
          "base_uri": "https://localhost:8080/",
          "height": 607
        },
        "id": "BiibcsohKVxl",
        "outputId": "18b02910-d8b3-45a6-832d-b2dbd1fa3401"
      },
      "source": [
        "plt.style.use('seaborn-whitegrid')\n",
        "plt.figure(figsize=(15,10))\n",
        "plt.bar(pedidos_clientes_informacoes['quantidade_parcelas'].apply(str), \n",
        "        pedidos_clientes_informacoes['valor_pago'], color = 'darkcyan')\n",
        "plt.xlabel('Quantidade de parcelas por compra', size = 16)\n",
        "plt.ylabel('Valor pago na compra', size = 16)\n",
        "plt.show()"
      ],
      "execution_count": 53,
      "outputs": [
        {
          "output_type": "display_data",
          "data": {
            "image/png": "[encoded data removed]",
            "text/plain": [
              "<Figure size 1080x720 with 1 Axes>"
            ]
          },
          "metadata": {
            "tags": []
          }
        }
      ]
    },
    {
      "cell_type": "code",
      "metadata": {
        "colab": {
          "base_uri": "https://localhost:8080/",
          "height": 607
        },
        "id": "vwAwJ-2AK1hU",
        "outputId": "91259c9f-8026-44fe-d176-6d688ae610a9"
      },
      "source": [
        "plt.style.use('seaborn-whitegrid')\n",
        "plt.figure(figsize=(15,10))\n",
        "plt.scatter(pedidos_clientes_informacoes['preco_item'], pedidos_clientes_informacoes['valor_frete'], color = 'darkcyan')\n",
        "plt.xlabel('Valor do frete', size = 16)\n",
        "plt.ylabel('Preço do item', size = 16)\n",
        "plt.show()"
      ],
      "execution_count": 52,
      "outputs": [
        {
          "output_type": "display_data",
          "data": {
            "image/png": "[encoded data removed]",
            "text/plain": [
              "<Figure size 1080x720 with 1 Axes>"
            ]
          },
          "metadata": {
            "tags": []
          }
        }
      ]
    },
    {
      "cell_type": "markdown",
      "metadata": {
        "id": "cU60suHPX7H8"
      },
      "source": [
        "# Arrumando os dados para clusterizar\n"
      ]
    },
    {
      "cell_type": "code",
      "metadata": {
        "id": "3u7wHIUMX7H8"
      },
      "source": [
        "colunas = ['estado_cliente', 'status_pedido', 'id_item_pedido', 'preco_item', \n",
        "           'valor_frete', 'pagamento_sequencial', 'tipo_pagamento', 'quantidade_parcelas', 'valor_pago', \n",
        "           'categoria_produto']\n",
        "dados_cluster = pedidos_clientes_informacoes[colunas]\n",
        "dados_cluster.head()"
      ],
      "execution_count": null,
      "outputs": []
    },
    {
      "cell_type": "code",
      "metadata": {
        "colab": {
          "base_uri": "https://localhost:8080/"
        },
        "id": "oCkS4JJtX7H9",
        "outputId": "a9f05e02-0505-4183-ff94-a578a01b6fac"
      },
      "source": [
        "dados_cluster.info()"
      ],
      "execution_count": 25,
      "outputs": [
        {
          "output_type": "stream",
          "text": [
            "<class 'pandas.core.frame.DataFrame'>\n",
            "Int64Index: 117601 entries, 0 to 117600\n",
            "Data columns (total 10 columns):\n",
            " #   Column                Non-Null Count   Dtype  \n",
            "---  ------                --------------   -----  \n",
            " 0   estado_cliente        117601 non-null  object \n",
            " 1   status_pedido         117601 non-null  object \n",
            " 2   id_item_pedido        117601 non-null  int64  \n",
            " 3   preco_item            117601 non-null  float64\n",
            " 4   valor_frete           117601 non-null  float64\n",
            " 5   pagamento_sequencial  117601 non-null  int64  \n",
            " 6   tipo_pagamento        117601 non-null  object \n",
            " 7   quantidade_parcelas   117601 non-null  int64  \n",
            " 8   valor_pago            117601 non-null  float64\n",
            " 9   categoria_produto     115903 non-null  object \n",
            "dtypes: float64(3), int64(3), object(4)\n",
            "memory usage: 9.9+ MB\n"
          ],
          "name": "stdout"
        }
      ]
    },
    {
      "cell_type": "code",
      "metadata": {
        "colab": {
          "base_uri": "https://localhost:8080/",
          "height": 299
        },
        "id": "d9z5mYq5X7IM",
        "outputId": "1c8196ca-28cf-45ef-c03b-0f1abb9c86c9"
      },
      "source": [
        "dados_cluster.describe()"
      ],
      "execution_count": 26,
      "outputs": [
        {
          "output_type": "execute_result",
          "data": {
            "text/html": [
              "<div>\n",
              "<style scoped>\n",
              "    .dataframe tbody tr th:only-of-type {\n",
              "        vertical-align: middle;\n",
              "    }\n",
              "\n",
              "    .dataframe tbody tr th {\n",
              "        vertical-align: top;\n",
              "    }\n",
              "\n",
              "    .dataframe thead th {\n",
              "        text-align: right;\n",
              "    }\n",
              "</style>\n",
              "<table border=\"1\" class=\"dataframe\">\n",
              "  <thead>\n",
              "    <tr style=\"text-align: right;\">\n",
              "      <th></th>\n",
              "      <th>id_item_pedido</th>\n",
              "      <th>preco_item</th>\n",
              "      <th>valor_frete</th>\n",
              "      <th>pagamento_sequencial</th>\n",
              "      <th>quantidade_parcelas</th>\n",
              "      <th>valor_pago</th>\n",
              "    </tr>\n",
              "  </thead>\n",
              "  <tbody>\n",
              "    <tr>\n",
              "      <th>count</th>\n",
              "      <td>117601.000000</td>\n",
              "      <td>117601.000000</td>\n",
              "      <td>117601.000000</td>\n",
              "      <td>117601.000000</td>\n",
              "      <td>117601.000000</td>\n",
              "      <td>117601.000000</td>\n",
              "    </tr>\n",
              "    <tr>\n",
              "      <th>mean</th>\n",
              "      <td>1.195900</td>\n",
              "      <td>120.824783</td>\n",
              "      <td>20.045990</td>\n",
              "      <td>1.093528</td>\n",
              "      <td>2.939482</td>\n",
              "      <td>172.686752</td>\n",
              "    </tr>\n",
              "    <tr>\n",
              "      <th>std</th>\n",
              "      <td>0.697706</td>\n",
              "      <td>184.479323</td>\n",
              "      <td>15.861315</td>\n",
              "      <td>0.726692</td>\n",
              "      <td>2.774223</td>\n",
              "      <td>267.592290</td>\n",
              "    </tr>\n",
              "    <tr>\n",
              "      <th>min</th>\n",
              "      <td>1.000000</td>\n",
              "      <td>0.850000</td>\n",
              "      <td>0.000000</td>\n",
              "      <td>1.000000</td>\n",
              "      <td>0.000000</td>\n",
              "      <td>0.000000</td>\n",
              "    </tr>\n",
              "    <tr>\n",
              "      <th>25%</th>\n",
              "      <td>1.000000</td>\n",
              "      <td>39.900000</td>\n",
              "      <td>13.080000</td>\n",
              "      <td>1.000000</td>\n",
              "      <td>1.000000</td>\n",
              "      <td>60.870000</td>\n",
              "    </tr>\n",
              "    <tr>\n",
              "      <th>50%</th>\n",
              "      <td>1.000000</td>\n",
              "      <td>74.900000</td>\n",
              "      <td>16.290000</td>\n",
              "      <td>1.000000</td>\n",
              "      <td>2.000000</td>\n",
              "      <td>108.210000</td>\n",
              "    </tr>\n",
              "    <tr>\n",
              "      <th>75%</th>\n",
              "      <td>1.000000</td>\n",
              "      <td>134.900000</td>\n",
              "      <td>21.190000</td>\n",
              "      <td>1.000000</td>\n",
              "      <td>4.000000</td>\n",
              "      <td>189.260000</td>\n",
              "    </tr>\n",
              "    <tr>\n",
              "      <th>max</th>\n",
              "      <td>21.000000</td>\n",
              "      <td>6735.000000</td>\n",
              "      <td>409.680000</td>\n",
              "      <td>29.000000</td>\n",
              "      <td>24.000000</td>\n",
              "      <td>13664.080000</td>\n",
              "    </tr>\n",
              "  </tbody>\n",
              "</table>\n",
              "</div>"
            ],
            "text/plain": [
              "       id_item_pedido     preco_item  ...  quantidade_parcelas     valor_pago\n",
              "count   117601.000000  117601.000000  ...        117601.000000  117601.000000\n",
              "mean         1.195900     120.824783  ...             2.939482     172.686752\n",
              "std          0.697706     184.479323  ...             2.774223     267.592290\n",
              "min          1.000000       0.850000  ...             0.000000       0.000000\n",
              "25%          1.000000      39.900000  ...             1.000000      60.870000\n",
              "50%          1.000000      74.900000  ...             2.000000     108.210000\n",
              "75%          1.000000     134.900000  ...             4.000000     189.260000\n",
              "max         21.000000    6735.000000  ...            24.000000   13664.080000\n",
              "\n",
              "[8 rows x 6 columns]"
            ]
          },
          "metadata": {
            "tags": []
          },
          "execution_count": 26
        }
      ]
    },
    {
      "cell_type": "markdown",
      "metadata": {
        "id": "B5vpa3FLX7IN"
      },
      "source": [
        "**Check for null values**"
      ]
    },
    {
      "cell_type": "code",
      "metadata": {
        "colab": {
          "base_uri": "https://localhost:8080/"
        },
        "id": "4-70RvL8X7IN",
        "outputId": "2781139b-d405-4fd7-f1c9-de3fb71c7afc"
      },
      "source": [
        "dados_cluster.isnull().any()"
      ],
      "execution_count": 27,
      "outputs": [
        {
          "output_type": "execute_result",
          "data": {
            "text/plain": [
              "estado_cliente          False\n",
              "status_pedido           False\n",
              "id_item_pedido          False\n",
              "preco_item              False\n",
              "valor_frete             False\n",
              "pagamento_sequencial    False\n",
              "tipo_pagamento          False\n",
              "quantidade_parcelas     False\n",
              "valor_pago              False\n",
              "categoria_produto        True\n",
              "dtype: bool"
            ]
          },
          "metadata": {
            "tags": []
          },
          "execution_count": 27
        }
      ]
    },
    {
      "cell_type": "code",
      "metadata": {
        "id": "o2hHdEriTo9G"
      },
      "source": [
        "#removendo NA de categoria produto\n",
        "dados_cluster = dados_cluster.dropna()"
      ],
      "execution_count": 28,
      "outputs": []
    },
    {
      "cell_type": "code",
      "metadata": {
        "colab": {
          "base_uri": "https://localhost:8080/"
        },
        "id": "63sywinhTzu1",
        "outputId": "6758bc22-b242-4be8-ee25-6573dd87b471"
      },
      "source": [
        "dados_cluster.isnull().any()"
      ],
      "execution_count": 29,
      "outputs": [
        {
          "output_type": "execute_result",
          "data": {
            "text/plain": [
              "estado_cliente          False\n",
              "status_pedido           False\n",
              "id_item_pedido          False\n",
              "preco_item              False\n",
              "valor_frete             False\n",
              "pagamento_sequencial    False\n",
              "tipo_pagamento          False\n",
              "quantidade_parcelas     False\n",
              "valor_pago              False\n",
              "categoria_produto       False\n",
              "dtype: bool"
            ]
          },
          "metadata": {
            "tags": []
          },
          "execution_count": 29
        }
      ]
    },
    {
      "cell_type": "markdown",
      "metadata": {
        "id": "2C41f4yEX7IO"
      },
      "source": [
        "## Pré-processamento de dados numericos e categoricos\n"
      ]
    },
    {
      "cell_type": "code",
      "metadata": {
        "colab": {
          "base_uri": "https://localhost:8080/",
          "height": 422
        },
        "id": "NiANZpEKUF-e",
        "outputId": "5a024d99-4156-443b-9541-df9e5ceceb72"
      },
      "source": [
        "dados_cluster"
      ],
      "execution_count": 30,
      "outputs": [
        {
          "output_type": "execute_result",
          "data": {
            "text/html": [
              "<div>\n",
              "<style scoped>\n",
              "    .dataframe tbody tr th:only-of-type {\n",
              "        vertical-align: middle;\n",
              "    }\n",
              "\n",
              "    .dataframe tbody tr th {\n",
              "        vertical-align: top;\n",
              "    }\n",
              "\n",
              "    .dataframe thead th {\n",
              "        text-align: right;\n",
              "    }\n",
              "</style>\n",
              "<table border=\"1\" class=\"dataframe\">\n",
              "  <thead>\n",
              "    <tr style=\"text-align: right;\">\n",
              "      <th></th>\n",
              "      <th>estado_cliente</th>\n",
              "      <th>status_pedido</th>\n",
              "      <th>id_item_pedido</th>\n",
              "      <th>preco_item</th>\n",
              "      <th>valor_frete</th>\n",
              "      <th>pagamento_sequencial</th>\n",
              "      <th>tipo_pagamento</th>\n",
              "      <th>quantidade_parcelas</th>\n",
              "      <th>valor_pago</th>\n",
              "      <th>categoria_produto</th>\n",
              "    </tr>\n",
              "  </thead>\n",
              "  <tbody>\n",
              "    <tr>\n",
              "      <th>0</th>\n",
              "      <td>SP</td>\n",
              "      <td>delivered</td>\n",
              "      <td>1</td>\n",
              "      <td>29.99</td>\n",
              "      <td>8.72</td>\n",
              "      <td>1</td>\n",
              "      <td>credit_card</td>\n",
              "      <td>1</td>\n",
              "      <td>18.12</td>\n",
              "      <td>utilidades_domesticas</td>\n",
              "    </tr>\n",
              "    <tr>\n",
              "      <th>1</th>\n",
              "      <td>SP</td>\n",
              "      <td>delivered</td>\n",
              "      <td>1</td>\n",
              "      <td>29.99</td>\n",
              "      <td>8.72</td>\n",
              "      <td>3</td>\n",
              "      <td>voucher</td>\n",
              "      <td>1</td>\n",
              "      <td>2.00</td>\n",
              "      <td>utilidades_domesticas</td>\n",
              "    </tr>\n",
              "    <tr>\n",
              "      <th>2</th>\n",
              "      <td>SP</td>\n",
              "      <td>delivered</td>\n",
              "      <td>1</td>\n",
              "      <td>29.99</td>\n",
              "      <td>8.72</td>\n",
              "      <td>2</td>\n",
              "      <td>voucher</td>\n",
              "      <td>1</td>\n",
              "      <td>18.59</td>\n",
              "      <td>utilidades_domesticas</td>\n",
              "    </tr>\n",
              "    <tr>\n",
              "      <th>3</th>\n",
              "      <td>SP</td>\n",
              "      <td>delivered</td>\n",
              "      <td>1</td>\n",
              "      <td>29.99</td>\n",
              "      <td>7.78</td>\n",
              "      <td>1</td>\n",
              "      <td>credit_card</td>\n",
              "      <td>3</td>\n",
              "      <td>37.77</td>\n",
              "      <td>utilidades_domesticas</td>\n",
              "    </tr>\n",
              "    <tr>\n",
              "      <th>4</th>\n",
              "      <td>SP</td>\n",
              "      <td>delivered</td>\n",
              "      <td>1</td>\n",
              "      <td>29.99</td>\n",
              "      <td>7.78</td>\n",
              "      <td>1</td>\n",
              "      <td>credit_card</td>\n",
              "      <td>1</td>\n",
              "      <td>37.77</td>\n",
              "      <td>utilidades_domesticas</td>\n",
              "    </tr>\n",
              "    <tr>\n",
              "      <th>...</th>\n",
              "      <td>...</td>\n",
              "      <td>...</td>\n",
              "      <td>...</td>\n",
              "      <td>...</td>\n",
              "      <td>...</td>\n",
              "      <td>...</td>\n",
              "      <td>...</td>\n",
              "      <td>...</td>\n",
              "      <td>...</td>\n",
              "      <td>...</td>\n",
              "    </tr>\n",
              "    <tr>\n",
              "      <th>117596</th>\n",
              "      <td>SP</td>\n",
              "      <td>delivered</td>\n",
              "      <td>1</td>\n",
              "      <td>356.00</td>\n",
              "      <td>18.12</td>\n",
              "      <td>1</td>\n",
              "      <td>credit_card</td>\n",
              "      <td>10</td>\n",
              "      <td>748.24</td>\n",
              "      <td>esporte_lazer</td>\n",
              "    </tr>\n",
              "    <tr>\n",
              "      <th>117597</th>\n",
              "      <td>SP</td>\n",
              "      <td>delivered</td>\n",
              "      <td>2</td>\n",
              "      <td>356.00</td>\n",
              "      <td>18.12</td>\n",
              "      <td>1</td>\n",
              "      <td>credit_card</td>\n",
              "      <td>10</td>\n",
              "      <td>748.24</td>\n",
              "      <td>esporte_lazer</td>\n",
              "    </tr>\n",
              "    <tr>\n",
              "      <th>117598</th>\n",
              "      <td>PR</td>\n",
              "      <td>delivered</td>\n",
              "      <td>1</td>\n",
              "      <td>55.90</td>\n",
              "      <td>15.14</td>\n",
              "      <td>1</td>\n",
              "      <td>credit_card</td>\n",
              "      <td>1</td>\n",
              "      <td>71.04</td>\n",
              "      <td>instrumentos_musicais</td>\n",
              "    </tr>\n",
              "    <tr>\n",
              "      <th>117599</th>\n",
              "      <td>SP</td>\n",
              "      <td>delivered</td>\n",
              "      <td>1</td>\n",
              "      <td>72.00</td>\n",
              "      <td>13.08</td>\n",
              "      <td>1</td>\n",
              "      <td>credit_card</td>\n",
              "      <td>3</td>\n",
              "      <td>85.08</td>\n",
              "      <td>beleza_saude</td>\n",
              "    </tr>\n",
              "    <tr>\n",
              "      <th>117600</th>\n",
              "      <td>PR</td>\n",
              "      <td>delivered</td>\n",
              "      <td>1</td>\n",
              "      <td>68.50</td>\n",
              "      <td>18.36</td>\n",
              "      <td>1</td>\n",
              "      <td>debit_card</td>\n",
              "      <td>1</td>\n",
              "      <td>86.86</td>\n",
              "      <td>beleza_saude</td>\n",
              "    </tr>\n",
              "  </tbody>\n",
              "</table>\n",
              "<p>115903 rows × 10 columns</p>\n",
              "</div>"
            ],
            "text/plain": [
              "       estado_cliente status_pedido  ...  valor_pago      categoria_produto\n",
              "0                  SP     delivered  ...       18.12  utilidades_domesticas\n",
              "1                  SP     delivered  ...        2.00  utilidades_domesticas\n",
              "2                  SP     delivered  ...       18.59  utilidades_domesticas\n",
              "3                  SP     delivered  ...       37.77  utilidades_domesticas\n",
              "4                  SP     delivered  ...       37.77  utilidades_domesticas\n",
              "...               ...           ...  ...         ...                    ...\n",
              "117596             SP     delivered  ...      748.24          esporte_lazer\n",
              "117597             SP     delivered  ...      748.24          esporte_lazer\n",
              "117598             PR     delivered  ...       71.04  instrumentos_musicais\n",
              "117599             SP     delivered  ...       85.08           beleza_saude\n",
              "117600             PR     delivered  ...       86.86           beleza_saude\n",
              "\n",
              "[115903 rows x 10 columns]"
            ]
          },
          "metadata": {
            "tags": []
          },
          "execution_count": 30
        }
      ]
    },
    {
      "cell_type": "code",
      "metadata": {
        "colab": {
          "base_uri": "https://localhost:8080/"
        },
        "id": "vDcaVDytX7IP",
        "outputId": "30d14563-1101-4780-fd11-79c547483a46"
      },
      "source": [
        "from sklearn.preprocessing import StandardScaler, OneHotEncoder\n",
        "from sklearn.pipeline import Pipeline\n",
        "from sklearn.compose import ColumnTransformer\n",
        "\n",
        "#standscaler normalize the numeric values\n",
        "\n",
        "num_attributes = ['preco_item', 'valor_frete', 'pagamento_sequencial', 'quantidade_parcelas','valor_pago']\n",
        "cat_attributes = ['estado_cliente', 'tipo_pagamento']\n",
        "\n",
        "pipeline = ColumnTransformer([\n",
        "        ('num', StandardScaler(), num_attributes),\n",
        "        ('cat', OneHotEncoder(), cat_attributes),\n",
        "])\n",
        "dados_consolidados = pipeline.fit_transform(dados_cluster)\n",
        "dados_consolidados"
      ],
      "execution_count": 31,
      "outputs": [
        {
          "output_type": "execute_result",
          "data": {
            "text/plain": [
              "<115903x36 sparse matrix of type '<class 'numpy.float64'>'\n",
              "\twith 811321 stored elements in Compressed Sparse Row format>"
            ]
          },
          "metadata": {
            "tags": []
          },
          "execution_count": 31
        }
      ]
    },
    {
      "cell_type": "code",
      "metadata": {
        "colab": {
          "base_uri": "https://localhost:8080/"
        },
        "id": "Jp2wM5B6X7IQ",
        "outputId": "f720d1eb-9400-454a-9356-c926226d4fc6"
      },
      "source": [
        "dados_consolidados.shape"
      ],
      "execution_count": 32,
      "outputs": [
        {
          "output_type": "execute_result",
          "data": {
            "text/plain": [
              "(115903, 36)"
            ]
          },
          "metadata": {
            "tags": []
          },
          "execution_count": 32
        }
      ]
    },
    {
      "cell_type": "code",
      "metadata": {
        "id": "hj9nQ1CBtQje",
        "colab": {
          "base_uri": "https://localhost:8080/"
        },
        "outputId": "a4a93917-f8f9-4d22-a51f-e222ed9473ec"
      },
      "source": [
        "dados_consolidados"
      ],
      "execution_count": 33,
      "outputs": [
        {
          "output_type": "execute_result",
          "data": {
            "text/plain": [
              "<115903x36 sparse matrix of type '<class 'numpy.float64'>'\n",
              "\twith 811321 stored elements in Compressed Sparse Row format>"
            ]
          },
          "metadata": {
            "tags": []
          },
          "execution_count": 33
        }
      ]
    },
    {
      "cell_type": "markdown",
      "metadata": {
        "id": "zRPTg6q0X7IR"
      },
      "source": [
        "A saída é uma matriz esparsa. Isso é útil quando há milhares de categorias porque a codificação onehot converte essas categorias em uma matriz cheia de zeros, exceto para um único 1 por linha. armazenar tal matriz consome muita memória, então, em vez disso, uma matriz esparsa armazena apenas a localização dos elementos diferentes de zero.Em nosso caso, precisamos converter essa matriz esparsa em uma matriz numpy porque precisamos realizar uma redução de dimensionalidade com PCA, que nao suporta matriz esparsa"
      ]
    },
    {
      "cell_type": "code",
      "metadata": {
        "id": "kdN_2xpYX7IR"
      },
      "source": [
        "dados_consolidados = dados_consolidados.toarray()"
      ],
      "execution_count": 34,
      "outputs": []
    },
    {
      "cell_type": "markdown",
      "metadata": {
        "id": "QB-KfMlpX7IS"
      },
      "source": [
        "### Reducao de dimensionalidade"
      ]
    },
    {
      "cell_type": "code",
      "metadata": {
        "colab": {
          "base_uri": "https://localhost:8080/"
        },
        "id": "c-cL3Oc2X7IS",
        "outputId": "385bce49-6318-4396-dd5c-3d42b15bd8fa"
      },
      "source": [
        "from sklearn.decomposition import PCA\n",
        "\n",
        "# Preserving 95% of the variance\n",
        "pca = PCA(n_components=0.95)\n",
        "dados_reduzidos = pca.fit_transform(dados_consolidados)\n",
        "dados_reduzidos.shape"
      ],
      "execution_count": 35,
      "outputs": [
        {
          "output_type": "execute_result",
          "data": {
            "text/plain": [
              "(115903, 11)"
            ]
          },
          "metadata": {
            "tags": []
          },
          "execution_count": 0
        },
        {
          "output_type": "execute_result",
          "data": {
            "text/plain": [
              "(115903, 11)"
            ]
          },
          "metadata": {
            "tags": []
          },
          "execution_count": 35
        }
      ]
    },
    {
      "cell_type": "code",
      "metadata": {
        "colab": {
          "base_uri": "https://localhost:8080/"
        },
        "id": "E5ieCq2bns6Z",
        "outputId": "94b760ed-31bc-48bc-aa90-323a68f4b825"
      },
      "source": [
        "pca"
      ],
      "execution_count": 39,
      "outputs": [
        {
          "output_type": "execute_result",
          "data": {
            "text/plain": [
              "PCA(copy=True, iterated_power='auto', n_components=0.95, random_state=None,\n",
              "    svd_solver='auto', tol=0.0, whiten=False)"
            ]
          },
          "metadata": {
            "tags": []
          },
          "execution_count": 39
        }
      ]
    },
    {
      "cell_type": "code",
      "metadata": {
        "colab": {
          "base_uri": "https://localhost:8080/"
        },
        "id": "XjCzrhEoXRpu",
        "outputId": "1ea6e734-55e3-4099-ae5c-16c5fd73fbd6"
      },
      "source": [
        "dados_reduzidos"
      ],
      "execution_count": null,
      "outputs": [
        {
          "output_type": "execute_result",
          "data": {
            "text/plain": [
              "array([[-1.18703229, -0.13964434, -0.23355648, ...,  0.02294768,\n",
              "         0.05389477,  0.00739506],\n",
              "       [-1.42338047,  2.50834967,  0.95610877, ...,  0.04555855,\n",
              "        -0.69009373, -0.18514559],\n",
              "       [-1.32012663,  1.33348566,  0.28197666, ...,  0.05462376,\n",
              "        -0.87606869, -0.23590087],\n",
              "       ...,\n",
              "       [-0.76011835, -0.01906548, -0.35693369, ..., -0.52355293,\n",
              "        -0.11979256,  0.67149157],\n",
              "       [-0.53700087, -0.32896712,  0.20769818, ...,  0.0373156 ,\n",
              "         0.03530586,  0.00344634],\n",
              "       [-0.64966513,  0.21767603, -0.59565084, ..., -0.48514782,\n",
              "        -0.6207106 ,  0.54111299]])"
            ]
          },
          "metadata": {
            "tags": []
          },
          "execution_count": 89
        }
      ]
    },
    {
      "cell_type": "code",
      "metadata": {
        "colab": {
          "base_uri": "https://localhost:8080/"
        },
        "id": "HYZQwAmjnz7p",
        "outputId": "0309e697-7a66-4fcb-bdf1-718e55901254"
      },
      "source": [
        "pca.n_components_"
      ],
      "execution_count": 41,
      "outputs": [
        {
          "output_type": "execute_result",
          "data": {
            "text/plain": [
              "11"
            ]
          },
          "metadata": {
            "tags": []
          },
          "execution_count": 41
        }
      ]
    },
    {
      "cell_type": "code",
      "metadata": {
        "id": "932eyOB3rimN",
        "colab": {
          "base_uri": "https://localhost:8080/",
          "height": 620
        },
        "outputId": "8b3c366e-6746-496f-ae25-c613166b15d0"
      },
      "source": [
        "features = range(pca.n_components_)\n",
        "plt.figure(figsize=(15,10))\n",
        "plt.bar(features, pca.explained_variance_ratio_, color = 'darkcyan')\n",
        "plt.xlabel('Componentes PCA')\n",
        "plt.ylabel('% variância explicada')\n"
      ],
      "execution_count": 47,
      "outputs": [
        {
          "output_type": "execute_result",
          "data": {
            "text/plain": [
              "Text(0, 0.5, '% variância explicada')"
            ]
          },
          "metadata": {
            "tags": []
          },
          "execution_count": 47
        },
        {
          "output_type": "display_data",
          "data": {
            "image/png": "[encoded data removed]",
            "text/plain": [
              "<Figure size 1080x720 with 1 Axes>"
            ]
          },
          "metadata": {
            "tags": []
          }
        }
      ]
    },
    {
      "cell_type": "markdown",
      "metadata": {
        "id": "8u4bK2-jX7IT"
      },
      "source": [
        "### Clustering - KMeans\n"
      ]
    },
    {
      "cell_type": "code",
      "metadata": {
        "id": "kEGVi376X7IT"
      },
      "source": [
        "from sklearn.cluster import KMeans\n",
        "\n",
        "k_variacao = range(2, 15)\n",
        "kmeans_por_k = [KMeans(n_clusters=k, random_state=42).fit(dados_reduzidos)\n",
        "                for k in k_variacao = range(2, 15)]\n",
        "inertias = [model.inertia_ for model in kmeans_por_k]"
      ],
      "execution_count": null,
      "outputs": []
    },
    {
      "cell_type": "code",
      "metadata": {
        "id": "y1hMyDEmw_46"
      },
      "source": [
        "teste = KMeans(n_clusters=6, random_state=42).fit(dados_reduzidos)"
      ],
      "execution_count": null,
      "outputs": []
    },
    {
      "cell_type": "code",
      "metadata": {
        "colab": {
          "base_uri": "https://localhost:8080/"
        },
        "id": "kQfNxOhhw71-",
        "outputId": "512a25e5-61d9-401f-fe08-c1d0672f4290"
      },
      "source": [
        "kmeans_por_k"
      ],
      "execution_count": null,
      "outputs": [
        {
          "output_type": "execute_result",
          "data": {
            "text/plain": [
              "[KMeans(algorithm='auto', copy_x=True, init='k-means++', max_iter=300,\n",
              "        n_clusters=2, n_init=10, n_jobs=None, precompute_distances='auto',\n",
              "        random_state=42, tol=0.0001, verbose=0),\n",
              " KMeans(algorithm='auto', copy_x=True, init='k-means++', max_iter=300,\n",
              "        n_clusters=3, n_init=10, n_jobs=None, precompute_distances='auto',\n",
              "        random_state=42, tol=0.0001, verbose=0),\n",
              " KMeans(algorithm='auto', copy_x=True, init='k-means++', max_iter=300,\n",
              "        n_clusters=4, n_init=10, n_jobs=None, precompute_distances='auto',\n",
              "        random_state=42, tol=0.0001, verbose=0),\n",
              " KMeans(algorithm='auto', copy_x=True, init='k-means++', max_iter=300,\n",
              "        n_clusters=5, n_init=10, n_jobs=None, precompute_distances='auto',\n",
              "        random_state=42, tol=0.0001, verbose=0),\n",
              " KMeans(algorithm='auto', copy_x=True, init='k-means++', max_iter=300,\n",
              "        n_clusters=6, n_init=10, n_jobs=None, precompute_distances='auto',\n",
              "        random_state=42, tol=0.0001, verbose=0),\n",
              " KMeans(algorithm='auto', copy_x=True, init='k-means++', max_iter=300,\n",
              "        n_clusters=7, n_init=10, n_jobs=None, precompute_distances='auto',\n",
              "        random_state=42, tol=0.0001, verbose=0),\n",
              " KMeans(algorithm='auto', copy_x=True, init='k-means++', max_iter=300,\n",
              "        n_clusters=8, n_init=10, n_jobs=None, precompute_distances='auto',\n",
              "        random_state=42, tol=0.0001, verbose=0),\n",
              " KMeans(algorithm='auto', copy_x=True, init='k-means++', max_iter=300,\n",
              "        n_clusters=9, n_init=10, n_jobs=None, precompute_distances='auto',\n",
              "        random_state=42, tol=0.0001, verbose=0),\n",
              " KMeans(algorithm='auto', copy_x=True, init='k-means++', max_iter=300,\n",
              "        n_clusters=10, n_init=10, n_jobs=None, precompute_distances='auto',\n",
              "        random_state=42, tol=0.0001, verbose=0),\n",
              " KMeans(algorithm='auto', copy_x=True, init='k-means++', max_iter=300,\n",
              "        n_clusters=11, n_init=10, n_jobs=None, precompute_distances='auto',\n",
              "        random_state=42, tol=0.0001, verbose=0),\n",
              " KMeans(algorithm='auto', copy_x=True, init='k-means++', max_iter=300,\n",
              "        n_clusters=12, n_init=10, n_jobs=None, precompute_distances='auto',\n",
              "        random_state=42, tol=0.0001, verbose=0),\n",
              " KMeans(algorithm='auto', copy_x=True, init='k-means++', max_iter=300,\n",
              "        n_clusters=13, n_init=10, n_jobs=None, precompute_distances='auto',\n",
              "        random_state=42, tol=0.0001, verbose=0),\n",
              " KMeans(algorithm='auto', copy_x=True, init='k-means++', max_iter=300,\n",
              "        n_clusters=14, n_init=10, n_jobs=None, precompute_distances='auto',\n",
              "        random_state=42, tol=0.0001, verbose=0)]"
            ]
          },
          "metadata": {
            "tags": []
          },
          "execution_count": 42
        }
      ]
    },
    {
      "cell_type": "code",
      "metadata": {
        "colab": {
          "base_uri": "https://localhost:8080/",
          "height": 498
        },
        "id": "YW5EbSaRX7IU",
        "outputId": "5c87a703-61fe-45cd-f44c-f6074e813caf"
      },
      "source": [
        "plt.figure(figsize=(15, 8))\n",
        "plt.plot(k_variacao, inertias, 'bo-')\n",
        "plt.xlabel('K', fontsize=16)\n",
        "plt.ylabel('Inertia', fontsize=16)\n",
        "plt.show()"
      ],
      "execution_count": null,
      "outputs": [
        {
          "output_type": "display_data",
          "data": {
            "image/png": "[encoded data removed]",
            "text/plain": [
              "<Figure size 1080x576 with 1 Axes>"
            ]
          },
          "metadata": {
            "tags": []
          }
        }
      ]
    },
    {
      "cell_type": "code",
      "metadata": {
        "id": "cQepwtuRVSfo"
      },
      "source": [
        "from sklearn.metrics import silhouette_score\n",
        "\n",
        "silhouette_scores = [silhouette_score(dados_reduzidos, model.labels_)\n",
        "                      for model in kmeans_per_k]"
      ],
      "execution_count": 95,
      "outputs": []
    },
    {
      "cell_type": "code",
      "metadata": {
        "id": "_fJYGmZXX7IW",
        "colab": {
          "base_uri": "https://localhost:8080/"
        },
        "outputId": "5c507b39-ac4d-4dae-b847-cd93488eb0df"
      },
      "source": [
        "melhor_index = np.argmax(silhouette_scores)\n",
        "melhor_k = k_range[melhor_index]\n",
        "melhor_score = silhouette_scores[melhor_index]\n",
        "# Best number of clusters\n",
        "melhor_index"
      ],
      "execution_count": 96,
      "outputs": [
        {
          "output_type": "execute_result",
          "data": {
            "text/plain": [
              "2"
            ]
          },
          "metadata": {
            "tags": []
          },
          "execution_count": 96
        }
      ]
    },
    {
      "cell_type": "code",
      "metadata": {
        "id": "oCmh4jOvX7IW",
        "colab": {
          "base_uri": "https://localhost:8080/",
          "height": 334
        },
        "outputId": "4fed7a9f-c806-483d-8ace-a1517b875226"
      },
      "source": [
        "plt.figure(figsize=(10, 5))\n",
        "plt.plot(range(2, 15), silhouette_scores, \"bo-\")\n",
        "plt.xlabel(\"k\", fontsize=14)\n",
        "plt.ylabel(\"Score do silhouette\", fontsize=14)\n",
        "plt.plot(best_k, best_score, 'rs')\n",
        "plt.show()"
      ],
      "execution_count": 107,
      "outputs": [
        {
          "output_type": "display_data",
          "data": {
            "image/png": "[encoded data removed]",
            "text/plain": [
              "<Figure size 720x360 with 1 Axes>"
            ]
          },
          "metadata": {
            "tags": []
          }
        }
      ]
    },
    {
      "cell_type": "markdown",
      "metadata": {
        "id": "uCXwgUziX7IX"
      },
      "source": [
        "A melhor quantidade cluster formados foi 2."
      ]
    },
    {
      "cell_type": "code",
      "metadata": {
        "id": "t-cz50ODX7IX",
        "colab": {
          "base_uri": "https://localhost:8080/"
        },
        "outputId": "a80de225-34cf-4587-d7f3-ce154bfb9549"
      },
      "source": [
        "melhor_modelo = kmeans_per_k[melhor_index]\n",
        "melhor_modelo"
      ],
      "execution_count": 98,
      "outputs": [
        {
          "output_type": "execute_result",
          "data": {
            "text/plain": [
              "KMeans(algorithm='auto', copy_x=True, init='k-means++', max_iter=300,\n",
              "       n_clusters=2, n_init=10, n_jobs=None, precompute_distances='auto',\n",
              "       random_state=42, tol=0.0001, verbose=0)"
            ]
          },
          "metadata": {
            "tags": []
          },
          "execution_count": 98
        }
      ]
    },
    {
      "cell_type": "code",
      "metadata": {
        "id": "CZfuImrIX7IY"
      },
      "source": [
        "y_pred = best_model.fit_predict(dados_reduzidos)"
      ],
      "execution_count": 99,
      "outputs": []
    },
    {
      "cell_type": "code",
      "metadata": {
        "id": "gwyJ51p0X7IY"
      },
      "source": [
        "for i in range(best_k):\n",
        "    print(f\"cluster {i + 1} tem: {np.sum(y_pred == i)} clientes\")"
      ],
      "execution_count": null,
      "outputs": []
    },
    {
      "cell_type": "markdown",
      "metadata": {
        "id": "eQCnbGloX7IZ"
      },
      "source": [
        "Representando graficamente cada cluster com TSNE"
      ]
    },
    {
      "cell_type": "code",
      "metadata": {
        "id": "d45wv16UX7IZ"
      },
      "source": [
        "from sklearn.manifold import TSNE\n",
        "\n",
        "tsne = TSNE(n_components=2, random_state=42)\n",
        "dados_reduzidos2 = tsne.fit_transform(dados_consolidados)"
      ],
      "execution_count": 105,
      "outputs": []
    },
    {
      "cell_type": "code",
      "metadata": {
        "colab": {
          "base_uri": "https://localhost:8080/",
          "height": 584
        },
        "id": "2NeCSb7AX7Ia",
        "outputId": "25467764-8c0d-4a21-c117-e59c750739ab"
      },
      "source": [
        "plt.figure(figsize=(13,10 ))\n",
        "plt.scatter(dados_reduzidos2[:, 0], dados_reduzidos2[:, 1],c=y_pred, cmap=\"jet\")\n",
        "plt.axis('off')\n",
        "plt.colorbar()\n",
        "plt.show()"
      ],
      "execution_count": 106,
      "outputs": [
        {
          "output_type": "display_data",
          "data": {
            "image/png": "[encoded data removed]",
            "text/plain": [
              "<Figure size 936x720 with 2 Axes>"
            ]
          },
          "metadata": {
            "tags": []
          }
        }
      ]
    },
    {
      "cell_type": "markdown",
      "metadata": {
        "id": "CPAM5xY9Vqou"
      },
      "source": [
        "# DBSCAN\n"
      ]
    },
    {
      "cell_type": "code",
      "metadata": {
        "id": "gCy4RqTSX7Ib"
      },
      "source": [
        "from sklearn import preprocessing"
      ],
      "execution_count": 95,
      "outputs": []
    },
    {
      "cell_type": "code",
      "metadata": {
        "id": "tU4L5LiLdaay"
      },
      "source": [
        "def calcDistance(X1, X2):\n",
        "    return(sum((X1 - X2)**2))**0.5"
      ],
      "execution_count": 96,
      "outputs": []
    },
    {
      "cell_type": "code",
      "metadata": {
        "id": "QW-4GJ1VVpZK"
      },
      "source": [
        "def find_neighborhood(X, pt, eps):\n",
        "\n",
        "  #inicializa os vizinhos e o vetor de labels com o ponto atual\n",
        "  neighbors_quant = 1\n",
        "  label_index = [pt]\n",
        "\n",
        "  for i in range(X.shape[0]):\n",
        "    \n",
        "    #Calcula a distancia ponto a ponto, se esta dentro de eps, contabiliza\n",
        "    if calcDistance(X[pt],X[i]) < eps:\n",
        "      neighbors_quant += neighbors_quant\n",
        "      label_index.append(i)\n",
        "\n",
        "  return label_index, neighbors_quant"
      ],
      "execution_count": 97,
      "outputs": []
    },
    {
      "cell_type": "code",
      "metadata": {
        "id": "3v20SgMeW_Op"
      },
      "source": [
        "def cluster_points(X,pt,eps,minpts,labels,point_type,cluster_val):\n",
        "\n",
        "  #Acha a vizinhança que esta na distancia de eps do ponto atual\n",
        "  label_index, neighbors = find_neighborhood(X, pt, eps)\n",
        "\n",
        "  #Se a vizinhança do ponto atual não tiver a quantidade minima, o ponto é classificado como ruido\n",
        "  if neighbors < minpts:\n",
        "    labels[pt] = -1\n",
        "    point_type[pt] = 'R'\n",
        "\n",
        "    return labels\n",
        "\n",
        "  else:\n",
        "\n",
        "    #Se o ponto tem vizinhança suficiente, então ele é um core e um cluster é formado\n",
        "    for i in range(len(label_index)):\n",
        "      labels[label_index[i]] = cluster_val\n",
        "      if i != 0:\n",
        "        point_type[label_index[i]] = 'B'\n",
        "      else:\n",
        "        point_type[label_index[0]] = 'C'\n",
        "\n",
        "    #Remove o ponto atual da lista de pontos deixando somente a vizinhança e o classifica\n",
        "    \n",
        "    label_index.pop(0)\n",
        "\n",
        "\n",
        "\n",
        "    while(len(label_index) > 0):\n",
        "      pt = label_index[0]\n",
        "\n",
        "      #Verifica se o próximo ponto da lista é um ponto core\n",
        "      label_neighbors, neighbors = find_neighborhood(X, pt, eps)\n",
        "\n",
        "      if neighbors >= minpts:\n",
        "\n",
        "        point_type[label_neighbors[0]] = 'C'\n",
        "\n",
        "        #Caso o ponto seja um core, então verifica a vizinhança\n",
        "        for i in range(len(label_neighbors)):\n",
        "\n",
        "          #Se um vizinho não estava classificado ele passa a fazer parte do cluster e entra para a lista de pontos\n",
        "          #Se um vizinho foi marcado como ruído anteriormente, ele passa a fazer parte do cluster\n",
        "          if labels[label_neighbors[i]] == 0 or labels[label_neighbors[i]] == -1:\n",
        "            if labels[label_neighbors[i]] == 0:\n",
        "              label_index.append(label_neighbors[i])\n",
        "            labels[label_neighbors[i]] = cluster_val\n",
        "            point_type[label_neighbors[i]] = 'B'\n",
        "  \n",
        "      label_index.pop(0)\n",
        "    \n",
        "    return labels"
      ],
      "execution_count": 98,
      "outputs": []
    },
    {
      "cell_type": "code",
      "metadata": {
        "id": "PMouA1fFXBQk"
      },
      "source": [
        "def DBSCAN(X, eps, minpoints, plot_graph=True, normalize=True, scale = False):\n",
        "\n",
        "  if normalize:\n",
        "    min_max_scaler = preprocessing.MinMaxScaler()\n",
        "    X = min_max_scaler.fit_transform(X)\n",
        "  elif scale:\n",
        "    scaler = preprocessing.StandardScaler()\n",
        "    X = scaler.fit_transform(X)\n",
        "\n",
        "  #Inicializa a lista de labels com 0s, os tipos dos pontos e o numero dos clusters\n",
        "  #Os tipos são C para core, B para borda, e R para ruido\n",
        "  labels = [0]*X.shape[0]\n",
        "  point_type = [0]*X.shape[0]\n",
        "  C = 1\n",
        "\n",
        "  #Para cada ponto verifica se ele não esta classificado, caso não esteja, ele é classificado\n",
        "  for p in range(X.shape[0]):\n",
        "      if labels[p]==0:\n",
        "          labels = cluster_points(X,p,eps,minpoints,labels,point_type,C)\n",
        "          C = C + 1\n",
        "  if (plot_graph):\n",
        "    fig,ax = plt.subplots(figsize=(10,5))\n",
        "    ax.set_title(\"DBSCAN dataset training\")\n",
        "    ax.scatter(X[:,0],X[:,1], c=labels, cmap=\"inferno\")\n",
        "  print('Clusters quantity: ' + str(max(set(labels))))\n",
        "\n",
        "  return labels, point_type"
      ],
      "execution_count": 99,
      "outputs": []
    },
    {
      "cell_type": "code",
      "metadata": {
        "id": "4tfzy3bpe_3o"
      },
      "source": [
        "def eps_elbow(X, MinPoints,normalize=True, scale = False):\n",
        "\n",
        "  if normalize:\n",
        "    min_max_scaler = preprocessing.MinMaxScaler()\n",
        "    X = min_max_scaler.fit_transform(X)\n",
        "  elif scale:\n",
        "    scaler = preprocessing.StandardScaler()\n",
        "    X = scaler.fit_transform(X)\n",
        "  \n",
        "  dists = []\n",
        "  k_min_dists = []\n",
        "\n",
        "  #Calcula a distancia de um ponto do dataset para todos os outros elementos \n",
        "  for pt in range(X.shape[0]):\n",
        "    for i in range(X.shape[0]):\n",
        "      if pt != i:\n",
        "        dists.append(calcDistance(X[pt],X[i]))\n",
        "\n",
        "    #Organiza a lista de distancias a partir do ponto atual em ordem crescente e \n",
        "    #grava as MinPoints menores distancias na lista de menores distancias\n",
        "    dists.sort()\n",
        "    for k in range(MinPoints):\n",
        "      k_min_dists.append(dists[k])\n",
        "    dists.clear()\n",
        "\n",
        "  #Organiza a lista de distancias minimas e plota o gráfico\n",
        "  k_min_dists.sort()\n",
        "\n",
        "  fig,ax = plt.subplots(figsize=(10,5))\n",
        "  ax.set_title(\"Eps elbow\")\n",
        "  ax.set_xlabel(\"Index\")\n",
        "  ax.set_ylabel(\"Min dists\")\n",
        "  ax.scatter(range(len(k_min_dists)), k_min_dists, cmap=\"inferno\");\n",
        "\n",
        "  #return k_min_dists"
      ],
      "execution_count": 100,
      "outputs": []
    },
    {
      "cell_type": "code",
      "metadata": {
        "id": "E6W2QxkefA9U",
        "colab": {
          "base_uri": "https://localhost:8080/",
          "height": 316
        },
        "outputId": "3e9ef129-8b03-47cb-c597-c8392770f2fe"
      },
      "source": [
        "minpoints = 40\n",
        "eps_elbow(dados_reduzidos, minpoints, normalize=True)"
      ],
      "execution_count": 101,
      "outputs": [
        {
          "output_type": "error",
          "ename": "KeyboardInterrupt",
          "evalue": "ignored",
          "traceback": [
            "\u001b[0;31m---------------------------------------------------------------------------\u001b[0m",
            "\u001b[0;31mKeyboardInterrupt\u001b[0m                         Traceback (most recent call last)",
            "\u001b[0;32m<ipython-input-101-a67b8ca6c803>\u001b[0m in \u001b[0;36m<module>\u001b[0;34m()\u001b[0m\n\u001b[1;32m      1\u001b[0m \u001b[0mminpoints\u001b[0m \u001b[0;34m=\u001b[0m \u001b[0;36m40\u001b[0m\u001b[0;34m\u001b[0m\u001b[0;34m\u001b[0m\u001b[0m\n\u001b[0;32m----> 2\u001b[0;31m \u001b[0meps_elbow\u001b[0m\u001b[0;34m(\u001b[0m\u001b[0mdados_reduzidos\u001b[0m\u001b[0;34m,\u001b[0m \u001b[0mminpoints\u001b[0m\u001b[0;34m,\u001b[0m \u001b[0mnormalize\u001b[0m\u001b[0;34m=\u001b[0m\u001b[0;32mTrue\u001b[0m\u001b[0;34m)\u001b[0m\u001b[0;34m\u001b[0m\u001b[0;34m\u001b[0m\u001b[0m\n\u001b[0m",
            "\u001b[0;32m<ipython-input-100-9135b632784a>\u001b[0m in \u001b[0;36meps_elbow\u001b[0;34m(X, MinPoints, normalize, scale)\u001b[0m\n\u001b[1;32m     15\u001b[0m     \u001b[0;32mfor\u001b[0m \u001b[0mi\u001b[0m \u001b[0;32min\u001b[0m \u001b[0mrange\u001b[0m\u001b[0;34m(\u001b[0m\u001b[0mX\u001b[0m\u001b[0;34m.\u001b[0m\u001b[0mshape\u001b[0m\u001b[0;34m[\u001b[0m\u001b[0;36m0\u001b[0m\u001b[0;34m]\u001b[0m\u001b[0;34m)\u001b[0m\u001b[0;34m:\u001b[0m\u001b[0;34m\u001b[0m\u001b[0;34m\u001b[0m\u001b[0m\n\u001b[1;32m     16\u001b[0m       \u001b[0;32mif\u001b[0m \u001b[0mpt\u001b[0m \u001b[0;34m!=\u001b[0m \u001b[0mi\u001b[0m\u001b[0;34m:\u001b[0m\u001b[0;34m\u001b[0m\u001b[0;34m\u001b[0m\u001b[0m\n\u001b[0;32m---> 17\u001b[0;31m         \u001b[0mdists\u001b[0m\u001b[0;34m.\u001b[0m\u001b[0mappend\u001b[0m\u001b[0;34m(\u001b[0m\u001b[0mcalcDistance\u001b[0m\u001b[0;34m(\u001b[0m\u001b[0mX\u001b[0m\u001b[0;34m[\u001b[0m\u001b[0mpt\u001b[0m\u001b[0;34m]\u001b[0m\u001b[0;34m,\u001b[0m\u001b[0mX\u001b[0m\u001b[0;34m[\u001b[0m\u001b[0mi\u001b[0m\u001b[0;34m]\u001b[0m\u001b[0;34m)\u001b[0m\u001b[0;34m)\u001b[0m\u001b[0;34m\u001b[0m\u001b[0;34m\u001b[0m\u001b[0m\n\u001b[0m\u001b[1;32m     18\u001b[0m \u001b[0;34m\u001b[0m\u001b[0m\n\u001b[1;32m     19\u001b[0m     \u001b[0;31m#Organiza a lista de distancias a partir do ponto atual em ordem crescente e\u001b[0m\u001b[0;34m\u001b[0m\u001b[0;34m\u001b[0m\u001b[0;34m\u001b[0m\u001b[0m\n",
            "\u001b[0;31mKeyboardInterrupt\u001b[0m: "
          ]
        }
      ]
    },
    {
      "cell_type": "code",
      "metadata": {
        "id": "88K4FUjUXGZM",
        "colab": {
          "base_uri": "https://localhost:8080/",
          "height": 304
        },
        "outputId": "459db4ac-50c0-4e02-ae34-088d84377865"
      },
      "source": [
        "#Define o numero de pontos\n",
        "#eps = 0.6\n",
        "labels, point_types = DBSCAN(dados_reduzidos, 0.6, minpoints, normalize=False, plot_graph=True)"
      ],
      "execution_count": 141,
      "outputs": [
        {
          "output_type": "error",
          "ename": "KeyboardInterrupt",
          "evalue": "ignored",
          "traceback": [
            "\u001b[0;31m---------------------------------------------------------------------------\u001b[0m",
            "\u001b[0;31mKeyboardInterrupt\u001b[0m                         Traceback (most recent call last)",
            "\u001b[0;32m<ipython-input-141-de70dc629236>\u001b[0m in \u001b[0;36m<module>\u001b[0;34m()\u001b[0m\n\u001b[1;32m      1\u001b[0m \u001b[0;31m#Define o numero de pontos\u001b[0m\u001b[0;34m\u001b[0m\u001b[0;34m\u001b[0m\u001b[0;34m\u001b[0m\u001b[0m\n\u001b[1;32m      2\u001b[0m \u001b[0;31m#eps = 0.6\u001b[0m\u001b[0;34m\u001b[0m\u001b[0;34m\u001b[0m\u001b[0;34m\u001b[0m\u001b[0m\n\u001b[0;32m----> 3\u001b[0;31m \u001b[0mlabels\u001b[0m\u001b[0;34m,\u001b[0m \u001b[0mpoint_types\u001b[0m \u001b[0;34m=\u001b[0m \u001b[0mDBSCAN\u001b[0m\u001b[0;34m(\u001b[0m\u001b[0mdados_reduzidos\u001b[0m\u001b[0;34m,\u001b[0m \u001b[0;36m0.6\u001b[0m\u001b[0;34m,\u001b[0m \u001b[0mminpoints\u001b[0m\u001b[0;34m,\u001b[0m \u001b[0mnormalize\u001b[0m\u001b[0;34m=\u001b[0m\u001b[0;32mFalse\u001b[0m\u001b[0;34m,\u001b[0m \u001b[0mplot_graph\u001b[0m\u001b[0;34m=\u001b[0m\u001b[0;32mTrue\u001b[0m\u001b[0;34m)\u001b[0m\u001b[0;34m\u001b[0m\u001b[0;34m\u001b[0m\u001b[0m\n\u001b[0m",
            "\u001b[0;32m<ipython-input-137-4ac4358c8b9d>\u001b[0m in \u001b[0;36mDBSCAN\u001b[0;34m(X, eps, minpoints, plot_graph, normalize, scale)\u001b[0m\n\u001b[1;32m     17\u001b[0m   \u001b[0;32mfor\u001b[0m \u001b[0mp\u001b[0m \u001b[0;32min\u001b[0m \u001b[0mrange\u001b[0m\u001b[0;34m(\u001b[0m\u001b[0mX\u001b[0m\u001b[0;34m.\u001b[0m\u001b[0mshape\u001b[0m\u001b[0;34m[\u001b[0m\u001b[0;36m0\u001b[0m\u001b[0;34m]\u001b[0m\u001b[0;34m)\u001b[0m\u001b[0;34m:\u001b[0m\u001b[0;34m\u001b[0m\u001b[0;34m\u001b[0m\u001b[0m\n\u001b[1;32m     18\u001b[0m       \u001b[0;32mif\u001b[0m \u001b[0mlabels\u001b[0m\u001b[0;34m[\u001b[0m\u001b[0mp\u001b[0m\u001b[0;34m]\u001b[0m\u001b[0;34m==\u001b[0m\u001b[0;36m0\u001b[0m\u001b[0;34m:\u001b[0m\u001b[0;34m\u001b[0m\u001b[0;34m\u001b[0m\u001b[0m\n\u001b[0;32m---> 19\u001b[0;31m           \u001b[0mlabels\u001b[0m \u001b[0;34m=\u001b[0m \u001b[0mcluster_points\u001b[0m\u001b[0;34m(\u001b[0m\u001b[0mX\u001b[0m\u001b[0;34m,\u001b[0m\u001b[0mp\u001b[0m\u001b[0;34m,\u001b[0m\u001b[0meps\u001b[0m\u001b[0;34m,\u001b[0m\u001b[0mminpoints\u001b[0m\u001b[0;34m,\u001b[0m\u001b[0mlabels\u001b[0m\u001b[0;34m,\u001b[0m\u001b[0mpoint_type\u001b[0m\u001b[0;34m,\u001b[0m\u001b[0mC\u001b[0m\u001b[0;34m)\u001b[0m\u001b[0;34m\u001b[0m\u001b[0;34m\u001b[0m\u001b[0m\n\u001b[0m\u001b[1;32m     20\u001b[0m           \u001b[0mC\u001b[0m \u001b[0;34m=\u001b[0m \u001b[0mC\u001b[0m \u001b[0;34m+\u001b[0m \u001b[0;36m1\u001b[0m\u001b[0;34m\u001b[0m\u001b[0;34m\u001b[0m\u001b[0m\n\u001b[1;32m     21\u001b[0m   \u001b[0;32mif\u001b[0m \u001b[0;34m(\u001b[0m\u001b[0mplot_graph\u001b[0m\u001b[0;34m)\u001b[0m\u001b[0;34m:\u001b[0m\u001b[0;34m\u001b[0m\u001b[0;34m\u001b[0m\u001b[0m\n",
            "\u001b[0;32m<ipython-input-136-40f6d43bf627>\u001b[0m in \u001b[0;36mcluster_points\u001b[0;34m(X, pt, eps, minpts, labels, point_type, cluster_val)\u001b[0m\n\u001b[1;32m     31\u001b[0m \u001b[0;34m\u001b[0m\u001b[0m\n\u001b[1;32m     32\u001b[0m       \u001b[0;31m#Verifica se o próximo ponto da lista é um ponto core\u001b[0m\u001b[0;34m\u001b[0m\u001b[0;34m\u001b[0m\u001b[0;34m\u001b[0m\u001b[0m\n\u001b[0;32m---> 33\u001b[0;31m       \u001b[0mlabel_neighbors\u001b[0m\u001b[0;34m,\u001b[0m \u001b[0mneighbors\u001b[0m \u001b[0;34m=\u001b[0m \u001b[0mfind_neighborhood\u001b[0m\u001b[0;34m(\u001b[0m\u001b[0mX\u001b[0m\u001b[0;34m,\u001b[0m \u001b[0mpt\u001b[0m\u001b[0;34m,\u001b[0m \u001b[0meps\u001b[0m\u001b[0;34m)\u001b[0m\u001b[0;34m\u001b[0m\u001b[0;34m\u001b[0m\u001b[0m\n\u001b[0m\u001b[1;32m     34\u001b[0m \u001b[0;34m\u001b[0m\u001b[0m\n\u001b[1;32m     35\u001b[0m       \u001b[0;32mif\u001b[0m \u001b[0mneighbors\u001b[0m \u001b[0;34m>=\u001b[0m \u001b[0mminpts\u001b[0m\u001b[0;34m:\u001b[0m\u001b[0;34m\u001b[0m\u001b[0;34m\u001b[0m\u001b[0m\n",
            "\u001b[0;32m<ipython-input-135-6e7f8226ff1b>\u001b[0m in \u001b[0;36mfind_neighborhood\u001b[0;34m(X, pt, eps)\u001b[0m\n\u001b[1;32m      8\u001b[0m \u001b[0;34m\u001b[0m\u001b[0m\n\u001b[1;32m      9\u001b[0m     \u001b[0;31m#Calcula a distancia ponto a ponto, se esta dentro de eps, contabiliza\u001b[0m\u001b[0;34m\u001b[0m\u001b[0;34m\u001b[0m\u001b[0;34m\u001b[0m\u001b[0m\n\u001b[0;32m---> 10\u001b[0;31m     \u001b[0;32mif\u001b[0m \u001b[0mcalcDistance\u001b[0m\u001b[0;34m(\u001b[0m\u001b[0mX\u001b[0m\u001b[0;34m[\u001b[0m\u001b[0mpt\u001b[0m\u001b[0;34m]\u001b[0m\u001b[0;34m,\u001b[0m\u001b[0mX\u001b[0m\u001b[0;34m[\u001b[0m\u001b[0mi\u001b[0m\u001b[0;34m]\u001b[0m\u001b[0;34m)\u001b[0m \u001b[0;34m<\u001b[0m \u001b[0meps\u001b[0m\u001b[0;34m:\u001b[0m\u001b[0;34m\u001b[0m\u001b[0;34m\u001b[0m\u001b[0m\n\u001b[0m\u001b[1;32m     11\u001b[0m       \u001b[0mneighbors_quant\u001b[0m \u001b[0;34m+=\u001b[0m \u001b[0mneighbors_quant\u001b[0m\u001b[0;34m\u001b[0m\u001b[0;34m\u001b[0m\u001b[0m\n\u001b[1;32m     12\u001b[0m       \u001b[0mlabel_index\u001b[0m\u001b[0;34m.\u001b[0m\u001b[0mappend\u001b[0m\u001b[0;34m(\u001b[0m\u001b[0mi\u001b[0m\u001b[0;34m)\u001b[0m\u001b[0;34m\u001b[0m\u001b[0;34m\u001b[0m\u001b[0m\n",
            "\u001b[0;32m<ipython-input-134-a3b371b159a8>\u001b[0m in \u001b[0;36mcalcDistance\u001b[0;34m(X1, X2)\u001b[0m\n\u001b[1;32m      1\u001b[0m \u001b[0;32mdef\u001b[0m \u001b[0mcalcDistance\u001b[0m\u001b[0;34m(\u001b[0m\u001b[0mX1\u001b[0m\u001b[0;34m,\u001b[0m \u001b[0mX2\u001b[0m\u001b[0;34m)\u001b[0m\u001b[0;34m:\u001b[0m\u001b[0;34m\u001b[0m\u001b[0;34m\u001b[0m\u001b[0m\n\u001b[0;32m----> 2\u001b[0;31m     \u001b[0;32mreturn\u001b[0m\u001b[0;34m(\u001b[0m\u001b[0msum\u001b[0m\u001b[0;34m(\u001b[0m\u001b[0;34m(\u001b[0m\u001b[0mX1\u001b[0m \u001b[0;34m-\u001b[0m \u001b[0mX2\u001b[0m\u001b[0;34m)\u001b[0m\u001b[0;34m**\u001b[0m\u001b[0;36m2\u001b[0m\u001b[0;34m)\u001b[0m\u001b[0;34m)\u001b[0m\u001b[0;34m**\u001b[0m\u001b[0;36m0.5\u001b[0m\u001b[0;34m\u001b[0m\u001b[0;34m\u001b[0m\u001b[0m\n\u001b[0m",
            "\u001b[0;31mKeyboardInterrupt\u001b[0m: "
          ]
        }
      ]
    },
    {
      "cell_type": "code",
      "metadata": {
        "id": "l1YBdnfbr_eo"
      },
      "source": [
        "from sklearn.neighbors import NearestNeighbors \n",
        "# setamos um ponto inicial de distancia do raio da vizinhança\n",
        "neigh = NearestNeighbors(n_neighbors = 2)"
      ],
      "execution_count": 79,
      "outputs": []
    },
    {
      "cell_type": "code",
      "metadata": {
        "id": "TwKDqbJhsdI1"
      },
      "source": [
        "nbrs = neigh.fit(dados_reduzidos)\n",
        "distances, indices = nbrs.kneighbors(dados_reduzidos)\n",
        "distances = np.sort(distances, axis = 0)\n",
        "distances = distances[:,1]"
      ],
      "execution_count": 80,
      "outputs": []
    },
    {
      "cell_type": "code",
      "metadata": {
        "colab": {
          "base_uri": "https://localhost:8080/",
          "height": 625
        },
        "id": "a6jhc5tzs11y",
        "outputId": "7612dee4-83b3-406b-ba10-9dee1b60ce82"
      },
      "source": [
        "plt.figure(figsize=(15,10))\n",
        "plt.xlabel('Distância', size = 16)\n",
        "plt.ylabel('EPS', size = 16)\n",
        "plt.plot(distances)"
      ],
      "execution_count": 81,
      "outputs": [
        {
          "output_type": "execute_result",
          "data": {
            "text/plain": [
              "[<matplotlib.lines.Line2D at 0x7fb2c1e56150>]"
            ]
          },
          "metadata": {
            "tags": []
          },
          "execution_count": 81
        },
        {
          "output_type": "display_data",
          "data": {
            "image/png": "[encoded data removed]",
            "text/plain": [
              "<Figure size 1080x720 with 1 Axes>"
            ]
          },
          "metadata": {
            "tags": []
          }
        }
      ]
    },
    {
      "cell_type": "code",
      "metadata": {
        "id": "0uyTLFe4dPMv"
      },
      "source": [
        "from sklearn.cluster import DBSCAN\n",
        "#a quantidade de pontos minimos dentro do raio \n",
        "teste2 = DBSCAN(eps=0.5, min_samples=40).fit(dados_reduzidos)"
      ],
      "execution_count": 92,
      "outputs": []
    },
    {
      "cell_type": "code",
      "metadata": {
        "colab": {
          "base_uri": "https://localhost:8080/"
        },
        "id": "Ff_eoFegjz6r",
        "outputId": "9b7b0e37-4d5e-4d23-d118-616329cb0251"
      },
      "source": [
        "teste2"
      ],
      "execution_count": 72,
      "outputs": [
        {
          "output_type": "execute_result",
          "data": {
            "text/plain": [
              "DBSCAN(algorithm='auto', eps=0.8, leaf_size=30, metric='euclidean',\n",
              "       metric_params=None, min_samples=22, n_jobs=None, p=None)"
            ]
          },
          "metadata": {
            "tags": []
          },
          "execution_count": 72
        }
      ]
    },
    {
      "cell_type": "code",
      "metadata": {
        "colab": {
          "base_uri": "https://localhost:8080/"
        },
        "id": "N3jXQe6rkD65",
        "outputId": "05f524f5-eac8-4937-bc2e-2ef6e405c33d"
      },
      "source": [
        "core_samples_mask = np.zeros_like(teste2.labels_, dtype=bool)\n",
        "core_samples_mask[teste2.core_sample_indices_] = True\n",
        "labels = teste2.labels_\n",
        "n_clusters_ = len(set(labels)) - (1 if -1 in labels else 0)\n",
        "n_clusters_"
      ],
      "execution_count": 93,
      "outputs": [
        {
          "output_type": "execute_result",
          "data": {
            "text/plain": [
              "38"
            ]
          },
          "metadata": {
            "tags": []
          },
          "execution_count": 93
        }
      ]
    },
    {
      "cell_type": "code",
      "metadata": {
        "id": "NScKGDMQo1uX"
      },
      "source": [
        "labels"
      ],
      "execution_count": null,
      "outputs": []
    },
    {
      "cell_type": "code",
      "metadata": {
        "id": "MylQGT5aoeZL"
      },
      "source": [
        "df = dados_cluster.join(pd.DataFrame(labels))\n",
        "df = df.rename(columns={0:'Cluster'})\n",
        "\n",
        "df['Cluster'].value_counts()"
      ],
      "execution_count": null,
      "outputs": []
    },
    {
      "cell_type": "code",
      "metadata": {
        "colab": {
          "base_uri": "https://localhost:8080/",
          "height": 419
        },
        "id": "PVjlWABKpMLW",
        "outputId": "8b478488-a4a1-4c38-eed1-3760923152af"
      },
      "source": [
        "dados_cluster"
      ],
      "execution_count": null,
      "outputs": [
        {
          "output_type": "execute_result",
          "data": {
            "text/html": [
              "<div>\n",
              "<style scoped>\n",
              "    .dataframe tbody tr th:only-of-type {\n",
              "        vertical-align: middle;\n",
              "    }\n",
              "\n",
              "    .dataframe tbody tr th {\n",
              "        vertical-align: top;\n",
              "    }\n",
              "\n",
              "    .dataframe thead th {\n",
              "        text-align: right;\n",
              "    }\n",
              "</style>\n",
              "<table border=\"1\" class=\"dataframe\">\n",
              "  <thead>\n",
              "    <tr style=\"text-align: right;\">\n",
              "      <th></th>\n",
              "      <th>estado_cliente</th>\n",
              "      <th>status_pedido</th>\n",
              "      <th>id_item_pedido</th>\n",
              "      <th>preco_item</th>\n",
              "      <th>valor_frete</th>\n",
              "      <th>pagamento_sequencial</th>\n",
              "      <th>tipo_pagamento</th>\n",
              "      <th>quantidade_parcelas</th>\n",
              "      <th>valor_pago</th>\n",
              "      <th>categoria_produto</th>\n",
              "    </tr>\n",
              "  </thead>\n",
              "  <tbody>\n",
              "    <tr>\n",
              "      <th>0</th>\n",
              "      <td>SP</td>\n",
              "      <td>delivered</td>\n",
              "      <td>1</td>\n",
              "      <td>29.99</td>\n",
              "      <td>8.72</td>\n",
              "      <td>1</td>\n",
              "      <td>credit_card</td>\n",
              "      <td>1</td>\n",
              "      <td>18.12</td>\n",
              "      <td>utilidades_domesticas</td>\n",
              "    </tr>\n",
              "    <tr>\n",
              "      <th>1</th>\n",
              "      <td>SP</td>\n",
              "      <td>delivered</td>\n",
              "      <td>1</td>\n",
              "      <td>29.99</td>\n",
              "      <td>8.72</td>\n",
              "      <td>3</td>\n",
              "      <td>voucher</td>\n",
              "      <td>1</td>\n",
              "      <td>2.00</td>\n",
              "      <td>utilidades_domesticas</td>\n",
              "    </tr>\n",
              "    <tr>\n",
              "      <th>2</th>\n",
              "      <td>SP</td>\n",
              "      <td>delivered</td>\n",
              "      <td>1</td>\n",
              "      <td>29.99</td>\n",
              "      <td>8.72</td>\n",
              "      <td>2</td>\n",
              "      <td>voucher</td>\n",
              "      <td>1</td>\n",
              "      <td>18.59</td>\n",
              "      <td>utilidades_domesticas</td>\n",
              "    </tr>\n",
              "    <tr>\n",
              "      <th>3</th>\n",
              "      <td>SP</td>\n",
              "      <td>delivered</td>\n",
              "      <td>1</td>\n",
              "      <td>29.99</td>\n",
              "      <td>7.78</td>\n",
              "      <td>1</td>\n",
              "      <td>credit_card</td>\n",
              "      <td>3</td>\n",
              "      <td>37.77</td>\n",
              "      <td>utilidades_domesticas</td>\n",
              "    </tr>\n",
              "    <tr>\n",
              "      <th>4</th>\n",
              "      <td>SP</td>\n",
              "      <td>delivered</td>\n",
              "      <td>1</td>\n",
              "      <td>29.99</td>\n",
              "      <td>7.78</td>\n",
              "      <td>1</td>\n",
              "      <td>credit_card</td>\n",
              "      <td>1</td>\n",
              "      <td>37.77</td>\n",
              "      <td>utilidades_domesticas</td>\n",
              "    </tr>\n",
              "    <tr>\n",
              "      <th>...</th>\n",
              "      <td>...</td>\n",
              "      <td>...</td>\n",
              "      <td>...</td>\n",
              "      <td>...</td>\n",
              "      <td>...</td>\n",
              "      <td>...</td>\n",
              "      <td>...</td>\n",
              "      <td>...</td>\n",
              "      <td>...</td>\n",
              "      <td>...</td>\n",
              "    </tr>\n",
              "    <tr>\n",
              "      <th>117596</th>\n",
              "      <td>SP</td>\n",
              "      <td>delivered</td>\n",
              "      <td>1</td>\n",
              "      <td>356.00</td>\n",
              "      <td>18.12</td>\n",
              "      <td>1</td>\n",
              "      <td>credit_card</td>\n",
              "      <td>10</td>\n",
              "      <td>748.24</td>\n",
              "      <td>esporte_lazer</td>\n",
              "    </tr>\n",
              "    <tr>\n",
              "      <th>117597</th>\n",
              "      <td>SP</td>\n",
              "      <td>delivered</td>\n",
              "      <td>2</td>\n",
              "      <td>356.00</td>\n",
              "      <td>18.12</td>\n",
              "      <td>1</td>\n",
              "      <td>credit_card</td>\n",
              "      <td>10</td>\n",
              "      <td>748.24</td>\n",
              "      <td>esporte_lazer</td>\n",
              "    </tr>\n",
              "    <tr>\n",
              "      <th>117598</th>\n",
              "      <td>PR</td>\n",
              "      <td>delivered</td>\n",
              "      <td>1</td>\n",
              "      <td>55.90</td>\n",
              "      <td>15.14</td>\n",
              "      <td>1</td>\n",
              "      <td>credit_card</td>\n",
              "      <td>1</td>\n",
              "      <td>71.04</td>\n",
              "      <td>instrumentos_musicais</td>\n",
              "    </tr>\n",
              "    <tr>\n",
              "      <th>117599</th>\n",
              "      <td>SP</td>\n",
              "      <td>delivered</td>\n",
              "      <td>1</td>\n",
              "      <td>72.00</td>\n",
              "      <td>13.08</td>\n",
              "      <td>1</td>\n",
              "      <td>credit_card</td>\n",
              "      <td>3</td>\n",
              "      <td>85.08</td>\n",
              "      <td>beleza_saude</td>\n",
              "    </tr>\n",
              "    <tr>\n",
              "      <th>117600</th>\n",
              "      <td>PR</td>\n",
              "      <td>delivered</td>\n",
              "      <td>1</td>\n",
              "      <td>68.50</td>\n",
              "      <td>18.36</td>\n",
              "      <td>1</td>\n",
              "      <td>debit_card</td>\n",
              "      <td>1</td>\n",
              "      <td>86.86</td>\n",
              "      <td>beleza_saude</td>\n",
              "    </tr>\n",
              "  </tbody>\n",
              "</table>\n",
              "<p>115903 rows × 10 columns</p>\n",
              "</div>"
            ],
            "text/plain": [
              "       estado_cliente status_pedido  ...  valor_pago      categoria_produto\n",
              "0                  SP     delivered  ...       18.12  utilidades_domesticas\n",
              "1                  SP     delivered  ...        2.00  utilidades_domesticas\n",
              "2                  SP     delivered  ...       18.59  utilidades_domesticas\n",
              "3                  SP     delivered  ...       37.77  utilidades_domesticas\n",
              "4                  SP     delivered  ...       37.77  utilidades_domesticas\n",
              "...               ...           ...  ...         ...                    ...\n",
              "117596             SP     delivered  ...      748.24          esporte_lazer\n",
              "117597             SP     delivered  ...      748.24          esporte_lazer\n",
              "117598             PR     delivered  ...       71.04  instrumentos_musicais\n",
              "117599             SP     delivered  ...       85.08           beleza_saude\n",
              "117600             PR     delivered  ...       86.86           beleza_saude\n",
              "\n",
              "[115903 rows x 10 columns]"
            ]
          },
          "metadata": {
            "tags": []
          },
          "execution_count": 74
        }
      ]
    }
  ]
}